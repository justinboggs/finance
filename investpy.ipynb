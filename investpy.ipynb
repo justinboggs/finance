{
 "cells": [
  {
   "cell_type": "code",
   "execution_count": 64,
   "metadata": {},
   "outputs": [],
   "source": [
    "import investpy\n",
    "from datetime import datetime\n",
    "import pandas as pd\n",
    "from prompt_toolkit import prompt\n",
    "import csv\n",
    "import os\n",
    "import seaborn as sns"
   ]
  },
  {
   "cell_type": "code",
   "execution_count": 65,
   "metadata": {},
   "outputs": [
    {
     "name": "stdout",
     "output_type": "stream",
     "text": [
      "Symbol: AAPL\n"
     ]
    }
   ],
   "source": [
    "stock = input('Symbol: ')"
   ]
  },
  {
   "cell_type": "code",
   "execution_count": 66,
   "metadata": {},
   "outputs": [
    {
     "name": "stdout",
     "output_type": "stream",
     "text": [
      "Start date (DD/MM/YYYY): 01/01/1900\n"
     ]
    }
   ],
   "source": [
    "from_date = input('Start date (DD/MM/YYYY): ')"
   ]
  },
  {
   "cell_type": "code",
   "execution_count": 67,
   "metadata": {},
   "outputs": [
    {
     "name": "stdout",
     "output_type": "stream",
     "text": [
      "End date (DD/MM/YYYY): 23/10/2020\n"
     ]
    }
   ],
   "source": [
    "to_date = input('End date (DD/MM/YYYY): ')"
   ]
  },
  {
   "cell_type": "code",
   "execution_count": 68,
   "metadata": {},
   "outputs": [
    {
     "name": "stdout",
     "output_type": "stream",
     "text": [
      "            Open  High   Low  Close     Volume Currency\n",
      "Date                                                   \n",
      "1980-12-12  0.13  0.13  0.13   0.13  469034080      USD\n",
      "1980-12-15  0.12  0.12  0.12   0.12  175884976      USD\n",
      "1980-12-16  0.11  0.11  0.11   0.11  105728104      USD\n",
      "1980-12-17  0.12  0.12  0.12   0.12   86441688      USD\n",
      "1980-12-18  0.12  0.12  0.12   0.12   73449672      USD\n"
     ]
    }
   ],
   "source": [
    "df = investpy.get_stock_historical_data(stock=stock, country='United States', from_date=from_date, \n",
    "     to_date=to_date)\n",
    "print(df.head())"
   ]
  },
  {
   "cell_type": "code",
   "execution_count": 69,
   "metadata": {},
   "outputs": [],
   "source": [
    "df.reset_index(inplace = True)"
   ]
  },
  {
   "cell_type": "code",
   "execution_count": 70,
   "metadata": {},
   "outputs": [
    {
     "name": "stdout",
     "output_type": "stream",
     "text": [
      "Enter file name: AAPL\n"
     ]
    }
   ],
   "source": [
    "path = 'data/stocks'\n",
    "name = input(\"Enter file name: \") + '.csv'\n",
    "csvFileName = os.path.join(path,name)"
   ]
  },
  {
   "cell_type": "code",
   "execution_count": 71,
   "metadata": {},
   "outputs": [],
   "source": [
    "df.to_csv(csvFileName)"
   ]
  },
  {
   "cell_type": "code",
   "execution_count": 72,
   "metadata": {},
   "outputs": [
    {
     "data": {
      "text/plain": [
       "<matplotlib.axes._subplots.AxesSubplot at 0x21763db9fc8>"
      ]
     },
     "execution_count": 72,
     "metadata": {},
     "output_type": "execute_result"
    },
    {
     "data": {
      "image/png": "[encoded data removed]",
      "text/plain": [
       "<Figure size 432x288 with 1 Axes>"
      ]
     },
     "metadata": {
      "needs_background": "light"
     },
     "output_type": "display_data"
    }
   ],
   "source": [
    "sns.lineplot(data=df, x=\"Date\", y=\"Close\")"
   ]
  },
  {
   "cell_type": "code",
   "execution_count": null,
   "metadata": {},
   "outputs": [],
   "source": []
  }
 ],
 "metadata": {
  "kernelspec": {
   "display_name": "Python 3",
   "language": "python",
   "name": "python3"
  },
  "language_info": {
   "codemirror_mode": {
    "name": "ipython",
    "version": 3
   },
   "file_extension": ".py",
   "mimetype": "text/x-python",
   "name": "python",
   "nbconvert_exporter": "python",
   "pygments_lexer": "ipython3",
   "version": "3.7.7"
  }
 },
 "nbformat": 4,
 "nbformat_minor": 4
}
