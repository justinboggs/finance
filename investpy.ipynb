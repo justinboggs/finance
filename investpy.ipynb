{
 "cells": [
  {
   "cell_type": "code",
   "execution_count": 1,
   "metadata": {},
   "outputs": [],
   "source": [
    "import investpy"
   ]
  },
  {
   "cell_type": "code",
   "execution_count": 2,
   "metadata": {},
   "outputs": [
    {
     "name": "stdout",
     "output_type": "stream",
     "text": [
      "            Open  High   Low  Close     Volume Currency\n",
      "Date                                                   \n",
      "2010-01-04  7.62  7.66  7.58   7.64  493728704      USD\n",
      "2010-01-05  7.66  7.70  7.62   7.66  601904640      USD\n",
      "2010-01-06  7.66  7.69  7.53   7.53  552158912      USD\n",
      "2010-01-07  7.56  7.57  7.47   7.52  477129760      USD\n",
      "2010-01-08  7.51  7.57  7.47   7.57  447876768      USD\n"
     ]
    }
   ],
   "source": [
    "df = investpy.get_stock_historical_data(stock='AAPL', country='United States', from_date='01/01/2010', to_date='01/01/2020')\n",
    "print(df.head())"
   ]
  },
  {
   "cell_type": "code",
   "execution_count": 3,
   "metadata": {},
   "outputs": [
    {
     "name": "stdout",
     "output_type": "stream",
     "text": [
      "            Open  High   Low  Close    Volume Currency\n",
      "Date                                                  \n",
      "2010-06-30  5.16  6.08  4.66   4.77  85971968      USD\n",
      "2010-07-01  5.00  5.18  4.05   4.39  41149316      USD\n",
      "2010-07-02  4.60  4.62  3.74   3.84  25709036      USD\n",
      "2010-07-06  4.00  4.00  3.17   3.22  34396480      USD\n",
      "2010-07-07  3.28  3.33  3.00   3.16  34624568      USD\n"
     ]
    }
   ],
   "source": [
    "df = investpy.get_stock_historical_data(stock='TSLA', country='United States', from_date='01/01/2010', to_date='01/01/2020')\n",
    "print(df.head())"
   ]
  },
  {
   "cell_type": "code",
   "execution_count": 17,
   "metadata": {},
   "outputs": [
    {
     "name": "stdout",
     "output_type": "stream",
     "text": [
      "            Open  High   Low  Close     Volume Currency\n",
      "Date                                                   \n",
      "1980-12-12  0.13  0.13  0.13   0.13  469034080      USD\n",
      "1980-12-15  0.12  0.12  0.12   0.12  175884976      USD\n",
      "1980-12-16  0.11  0.11  0.11   0.11  105728104      USD\n",
      "1980-12-17  0.12  0.12  0.12   0.12   86441688      USD\n",
      "1980-12-18  0.12  0.12  0.12   0.12   73449672      USD\n"
     ]
    }
   ],
   "source": [
    "TSLA = investpy.get_stock_historical_data(stock='TSLA', country='United States', from_date='30/06/2010', to_date='23/10/2020')\n",
    "print(df.head())"
   ]
  },
  {
   "cell_type": "code",
   "execution_count": 12,
   "metadata": {},
   "outputs": [],
   "source": [
    "TSLA.to_csv('data/TSLA.csv')"
   ]
  },
  {
   "cell_type": "code",
   "execution_count": 20,
   "metadata": {
    "scrolled": false
   },
   "outputs": [
    {
     "name": "stdout",
     "output_type": "stream",
     "text": [
      "            Open  High   Low  Close     Volume Currency\n",
      "Date                                                   \n",
      "1980-12-12  0.13  0.13  0.13   0.13  469034080      USD\n",
      "1980-12-15  0.12  0.12  0.12   0.12  175884976      USD\n",
      "1980-12-16  0.11  0.11  0.11   0.11  105728104      USD\n",
      "1980-12-17  0.12  0.12  0.12   0.12   86441688      USD\n",
      "1980-12-18  0.12  0.12  0.12   0.12   73449672      USD\n"
     ]
    }
   ],
   "source": [
    "AAPL = investpy.get_stock_historical_data(stock='AAPL', country='United States', from_date='12/12/1980', to_date='23/10/2020')\n",
    "print(df.head())"
   ]
  },
  {
   "cell_type": "code",
   "execution_count": 21,
   "metadata": {},
   "outputs": [],
   "source": [
    "AAPL.to_csv('data/AAPL.csv')"
   ]
  },
  {
   "cell_type": "code",
   "execution_count": null,
   "metadata": {},
   "outputs": [],
   "source": []
  }
 ],
 "metadata": {
  "kernelspec": {
   "display_name": "Python 3",
   "language": "python",
   "name": "python3"
  },
  "language_info": {
   "codemirror_mode": {
    "name": "ipython",
    "version": 3
   },
   "file_extension": ".py",
   "mimetype": "text/x-python",
   "name": "python",
   "nbconvert_exporter": "python",
   "pygments_lexer": "ipython3",
   "version": "3.7.7"
  }
 },
 "nbformat": 4,
 "nbformat_minor": 4
}
