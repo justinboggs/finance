{
 "cells": [
  {
   "cell_type": "code",
   "execution_count": 159,
   "metadata": {},
   "outputs": [],
   "source": [
    "import investpy\n",
    "from datetime import datetime\n",
    "import pandas as pd\n",
    "from prompt_toolkit import prompt\n",
    "import csv\n",
    "import os\n",
    "import seaborn as sns\n",
    "import matplotlib.pyplot as plt"
   ]
  },
  {
   "cell_type": "code",
   "execution_count": 193,
   "metadata": {},
   "outputs": [
    {
     "name": "stdout",
     "output_type": "stream",
     "text": [
      "Start date (DD/MM/YYYY): 01/01/2020\n"
     ]
    }
   ],
   "source": [
    "from_date = input('Start date (DD/MM/YYYY): ')"
   ]
  },
  {
   "cell_type": "code",
   "execution_count": 194,
   "metadata": {},
   "outputs": [
    {
     "name": "stdout",
     "output_type": "stream",
     "text": [
      "End date (DD/MM/YYYY): 18/12/2020\n"
     ]
    }
   ],
   "source": [
    "to_date = input('End date (DD/MM/YYYY): ')"
   ]
  },
  {
   "cell_type": "code",
   "execution_count": 195,
   "metadata": {},
   "outputs": [],
   "source": [
    "# firstStock = input('Symbol: ')"
   ]
  },
  {
   "cell_type": "code",
   "execution_count": 196,
   "metadata": {},
   "outputs": [],
   "source": [
    "# firstETF = input ('Symbol: ')"
   ]
  },
  {
   "cell_type": "code",
   "execution_count": 197,
   "metadata": {},
   "outputs": [],
   "source": [
    "# stock1 = investpy.get_stock_historical_data(stock=stock, country='United States', from_date=from_date, \n",
    "#      to_date=to_date)"
   ]
  },
  {
   "cell_type": "code",
   "execution_count": 210,
   "metadata": {},
   "outputs": [],
   "source": [
    "sp500 = investpy.get_index_historical_data(index='s&p 500', country='united states', from_date=from_date, to_date=to_date)"
   ]
  },
  {
   "cell_type": "code",
   "execution_count": 211,
   "metadata": {},
   "outputs": [],
   "source": [
    "nasdaq = investpy.get_index_historical_data(index='nasdaq', country='united states', from_date=from_date, to_date=to_date)"
   ]
  },
  {
   "cell_type": "code",
   "execution_count": 212,
   "metadata": {},
   "outputs": [],
   "source": [
    "# dow = investpy.get_index_recent_data(index='dj',\n",
    "#                                     country='united states')\n",
    "# print(dow.head())"
   ]
  },
  {
   "cell_type": "code",
   "execution_count": 213,
   "metadata": {},
   "outputs": [],
   "source": [
    "# df = investpy.get_index_recent_data(index='dxh1',\n",
    "#                                     country='United States')\n",
    "# print(df.head())"
   ]
  },
  {
   "cell_type": "code",
   "execution_count": 214,
   "metadata": {},
   "outputs": [],
   "source": [
    "btc = investpy.get_crypto_historical_data(crypto='bitcoin', from_date=from_date, to_date=to_date)"
   ]
  },
  {
   "cell_type": "code",
   "execution_count": 215,
   "metadata": {},
   "outputs": [],
   "source": [
    "eth = investpy.get_crypto_historical_data(crypto='ethereum', from_date=from_date, to_date=to_date)"
   ]
  },
  {
   "cell_type": "code",
   "execution_count": 216,
   "metadata": {},
   "outputs": [],
   "source": [
    "ada = investpy.get_crypto_historical_data(crypto='cardano', from_date=from_date, to_date=to_date)"
   ]
  },
  {
   "cell_type": "code",
   "execution_count": 217,
   "metadata": {},
   "outputs": [],
   "source": [
    "# df.reset_index(inplace = True)\n",
    "# print(df.head())"
   ]
  },
  {
   "cell_type": "code",
   "execution_count": 218,
   "metadata": {},
   "outputs": [
    {
     "name": "stdout",
     "output_type": "stream",
     "text": [
      "        Date     Open     High      Low    Close  Volume Currency\n",
      "0 2020-01-02  3244.67  3258.14  3235.53  3257.85       0      USD\n",
      "1 2020-01-03  3226.36  3246.15  3222.34  3234.85       0      USD\n",
      "2 2020-01-06  3217.55  3246.84  3214.64  3246.28       0      USD\n",
      "3 2020-01-07  3241.86  3244.91  3232.43  3237.18       0      USD\n",
      "4 2020-01-08  3238.59  3267.07  3236.67  3253.05       0      USD\n"
     ]
    }
   ],
   "source": [
    "sp500.reset_index(inplace = True)\n",
    "print(sp500.head())"
   ]
  },
  {
   "cell_type": "code",
   "execution_count": 219,
   "metadata": {},
   "outputs": [
    {
     "name": "stdout",
     "output_type": "stream",
     "text": [
      "        Date     Open     High      Low    Close     Volume Currency\n",
      "0 2020-01-02  9039.46  9093.43  9010.89  9092.19  654950848      USD\n",
      "1 2020-01-03  8976.43  9065.76  8976.43  9020.77  618554944      USD\n",
      "2 2020-01-06  8943.50  9072.41  8943.50  9071.47  690232128      USD\n",
      "3 2020-01-07  9076.65  9091.93  9042.55  9068.58  552230912      USD\n",
      "4 2020-01-08  9068.03  9168.89  9059.38  9129.24  595812160      USD\n"
     ]
    }
   ],
   "source": [
    "nasdaq.reset_index(inplace = True)\n",
    "print(nasdaq.head())"
   ]
  },
  {
   "cell_type": "code",
   "execution_count": 220,
   "metadata": {},
   "outputs": [
    {
     "name": "stdout",
     "output_type": "stream",
     "text": [
      "        Date    Open    High     Low   Close  Volume Currency\n",
      "0 2020-01-01  7196.4  7259.4  7180.0  7199.8  420278      USD\n",
      "1 2020-01-02  7199.7  7209.6  6901.4  6967.0  632778      USD\n",
      "2 2020-01-03  6967.1  7402.9  6884.1  7343.1  936288      USD\n",
      "3 2020-01-04  7345.1  7433.1  7291.4  7376.8  523909      USD\n",
      "4 2020-01-05  7376.8  7501.0  7345.6  7372.5  628142      USD\n"
     ]
    }
   ],
   "source": [
    "btc.reset_index(inplace = True)\n",
    "print(btc.head())"
   ]
  },
  {
   "cell_type": "code",
   "execution_count": 221,
   "metadata": {},
   "outputs": [
    {
     "name": "stdout",
     "output_type": "stream",
     "text": [
      "        Date    Open    High     Low   Close    Volume Currency\n",
      "0 2020-01-01  129.21  132.97  128.81  130.75  10353998      USD\n",
      "1 2020-01-02  130.75  130.77  126.74  127.19  11446378      USD\n",
      "2 2020-01-03  127.19  134.86  126.05  134.27  15674423      USD\n",
      "3 2020-01-04  134.30  135.57  132.76  134.33  11160462      USD\n",
      "4 2020-01-05  134.32  138.33  134.32  135.59  12192829      USD\n"
     ]
    }
   ],
   "source": [
    "eth.reset_index(inplace = True)\n",
    "print(eth.head())"
   ]
  },
  {
   "cell_type": "code",
   "execution_count": 222,
   "metadata": {},
   "outputs": [
    {
     "name": "stdout",
     "output_type": "stream",
     "text": [
      "        Date      Open      High       Low     Close     Volume Currency\n",
      "0 2020-01-01  0.032827  0.033764  0.032720  0.033463  250863136      USD\n",
      "1 2020-01-02  0.033468  0.033494  0.032323  0.032685  216630368      USD\n",
      "2 2020-01-03  0.032685  0.034394  0.032362  0.034097  341592672      USD\n",
      "3 2020-01-04  0.034115  0.034464  0.033743  0.034366  358196224      USD\n",
      "4 2020-01-05  0.034366  0.035274  0.034234  0.034616  216714080      USD\n"
     ]
    }
   ],
   "source": [
    "ada.reset_index(inplace = True)\n",
    "print(ada.head())"
   ]
  },
  {
   "cell_type": "code",
   "execution_count": 223,
   "metadata": {},
   "outputs": [],
   "source": [
    "# df = df[['Date', 'Close']]\n",
    "# df.head()"
   ]
  },
  {
   "cell_type": "code",
   "execution_count": 224,
   "metadata": {},
   "outputs": [
    {
     "data": {
      "text/html": [
       "<div>\n",
       "<style scoped>\n",
       "    .dataframe tbody tr th:only-of-type {\n",
       "        vertical-align: middle;\n",
       "    }\n",
       "\n",
       "    .dataframe tbody tr th {\n",
       "        vertical-align: top;\n",
       "    }\n",
       "\n",
       "    .dataframe thead th {\n",
       "        text-align: right;\n",
       "    }\n",
       "</style>\n",
       "<table border=\"1\" class=\"dataframe\">\n",
       "  <thead>\n",
       "    <tr style=\"text-align: right;\">\n",
       "      <th></th>\n",
       "      <th>Date</th>\n",
       "      <th>Close</th>\n",
       "    </tr>\n",
       "  </thead>\n",
       "  <tbody>\n",
       "    <tr>\n",
       "      <th>0</th>\n",
       "      <td>2020-01-02</td>\n",
       "      <td>3257.85</td>\n",
       "    </tr>\n",
       "    <tr>\n",
       "      <th>1</th>\n",
       "      <td>2020-01-03</td>\n",
       "      <td>3234.85</td>\n",
       "    </tr>\n",
       "    <tr>\n",
       "      <th>2</th>\n",
       "      <td>2020-01-06</td>\n",
       "      <td>3246.28</td>\n",
       "    </tr>\n",
       "    <tr>\n",
       "      <th>3</th>\n",
       "      <td>2020-01-07</td>\n",
       "      <td>3237.18</td>\n",
       "    </tr>\n",
       "    <tr>\n",
       "      <th>4</th>\n",
       "      <td>2020-01-08</td>\n",
       "      <td>3253.05</td>\n",
       "    </tr>\n",
       "  </tbody>\n",
       "</table>\n",
       "</div>"
      ],
      "text/plain": [
       "        Date    Close\n",
       "0 2020-01-02  3257.85\n",
       "1 2020-01-03  3234.85\n",
       "2 2020-01-06  3246.28\n",
       "3 2020-01-07  3237.18\n",
       "4 2020-01-08  3253.05"
      ]
     },
     "execution_count": 224,
     "metadata": {},
     "output_type": "execute_result"
    }
   ],
   "source": [
    "sp500 = sp500[['Date', 'Close']]\n",
    "sp500.head()"
   ]
  },
  {
   "cell_type": "code",
   "execution_count": 225,
   "metadata": {},
   "outputs": [
    {
     "data": {
      "text/html": [
       "<div>\n",
       "<style scoped>\n",
       "    .dataframe tbody tr th:only-of-type {\n",
       "        vertical-align: middle;\n",
       "    }\n",
       "\n",
       "    .dataframe tbody tr th {\n",
       "        vertical-align: top;\n",
       "    }\n",
       "\n",
       "    .dataframe thead th {\n",
       "        text-align: right;\n",
       "    }\n",
       "</style>\n",
       "<table border=\"1\" class=\"dataframe\">\n",
       "  <thead>\n",
       "    <tr style=\"text-align: right;\">\n",
       "      <th></th>\n",
       "      <th>Date</th>\n",
       "      <th>Close</th>\n",
       "    </tr>\n",
       "  </thead>\n",
       "  <tbody>\n",
       "    <tr>\n",
       "      <th>0</th>\n",
       "      <td>2020-01-02</td>\n",
       "      <td>9092.19</td>\n",
       "    </tr>\n",
       "    <tr>\n",
       "      <th>1</th>\n",
       "      <td>2020-01-03</td>\n",
       "      <td>9020.77</td>\n",
       "    </tr>\n",
       "    <tr>\n",
       "      <th>2</th>\n",
       "      <td>2020-01-06</td>\n",
       "      <td>9071.47</td>\n",
       "    </tr>\n",
       "    <tr>\n",
       "      <th>3</th>\n",
       "      <td>2020-01-07</td>\n",
       "      <td>9068.58</td>\n",
       "    </tr>\n",
       "    <tr>\n",
       "      <th>4</th>\n",
       "      <td>2020-01-08</td>\n",
       "      <td>9129.24</td>\n",
       "    </tr>\n",
       "  </tbody>\n",
       "</table>\n",
       "</div>"
      ],
      "text/plain": [
       "        Date    Close\n",
       "0 2020-01-02  9092.19\n",
       "1 2020-01-03  9020.77\n",
       "2 2020-01-06  9071.47\n",
       "3 2020-01-07  9068.58\n",
       "4 2020-01-08  9129.24"
      ]
     },
     "execution_count": 225,
     "metadata": {},
     "output_type": "execute_result"
    }
   ],
   "source": [
    "nasdaq = nasdaq[['Date', 'Close']]\n",
    "nasdaq.head()"
   ]
  },
  {
   "cell_type": "code",
   "execution_count": 226,
   "metadata": {},
   "outputs": [
    {
     "data": {
      "text/html": [
       "<div>\n",
       "<style scoped>\n",
       "    .dataframe tbody tr th:only-of-type {\n",
       "        vertical-align: middle;\n",
       "    }\n",
       "\n",
       "    .dataframe tbody tr th {\n",
       "        vertical-align: top;\n",
       "    }\n",
       "\n",
       "    .dataframe thead th {\n",
       "        text-align: right;\n",
       "    }\n",
       "</style>\n",
       "<table border=\"1\" class=\"dataframe\">\n",
       "  <thead>\n",
       "    <tr style=\"text-align: right;\">\n",
       "      <th></th>\n",
       "      <th>Date</th>\n",
       "      <th>Close</th>\n",
       "    </tr>\n",
       "  </thead>\n",
       "  <tbody>\n",
       "    <tr>\n",
       "      <th>0</th>\n",
       "      <td>2020-01-01</td>\n",
       "      <td>7199.8</td>\n",
       "    </tr>\n",
       "    <tr>\n",
       "      <th>1</th>\n",
       "      <td>2020-01-02</td>\n",
       "      <td>6967.0</td>\n",
       "    </tr>\n",
       "    <tr>\n",
       "      <th>2</th>\n",
       "      <td>2020-01-03</td>\n",
       "      <td>7343.1</td>\n",
       "    </tr>\n",
       "    <tr>\n",
       "      <th>3</th>\n",
       "      <td>2020-01-04</td>\n",
       "      <td>7376.8</td>\n",
       "    </tr>\n",
       "    <tr>\n",
       "      <th>4</th>\n",
       "      <td>2020-01-05</td>\n",
       "      <td>7372.5</td>\n",
       "    </tr>\n",
       "  </tbody>\n",
       "</table>\n",
       "</div>"
      ],
      "text/plain": [
       "        Date   Close\n",
       "0 2020-01-01  7199.8\n",
       "1 2020-01-02  6967.0\n",
       "2 2020-01-03  7343.1\n",
       "3 2020-01-04  7376.8\n",
       "4 2020-01-05  7372.5"
      ]
     },
     "execution_count": 226,
     "metadata": {},
     "output_type": "execute_result"
    }
   ],
   "source": [
    "btc = btc[['Date', 'Close']]\n",
    "btc.head()"
   ]
  },
  {
   "cell_type": "code",
   "execution_count": 227,
   "metadata": {},
   "outputs": [
    {
     "data": {
      "text/html": [
       "<div>\n",
       "<style scoped>\n",
       "    .dataframe tbody tr th:only-of-type {\n",
       "        vertical-align: middle;\n",
       "    }\n",
       "\n",
       "    .dataframe tbody tr th {\n",
       "        vertical-align: top;\n",
       "    }\n",
       "\n",
       "    .dataframe thead th {\n",
       "        text-align: right;\n",
       "    }\n",
       "</style>\n",
       "<table border=\"1\" class=\"dataframe\">\n",
       "  <thead>\n",
       "    <tr style=\"text-align: right;\">\n",
       "      <th></th>\n",
       "      <th>Date</th>\n",
       "      <th>Close</th>\n",
       "    </tr>\n",
       "  </thead>\n",
       "  <tbody>\n",
       "    <tr>\n",
       "      <th>0</th>\n",
       "      <td>2020-01-01</td>\n",
       "      <td>130.75</td>\n",
       "    </tr>\n",
       "    <tr>\n",
       "      <th>1</th>\n",
       "      <td>2020-01-02</td>\n",
       "      <td>127.19</td>\n",
       "    </tr>\n",
       "    <tr>\n",
       "      <th>2</th>\n",
       "      <td>2020-01-03</td>\n",
       "      <td>134.27</td>\n",
       "    </tr>\n",
       "    <tr>\n",
       "      <th>3</th>\n",
       "      <td>2020-01-04</td>\n",
       "      <td>134.33</td>\n",
       "    </tr>\n",
       "    <tr>\n",
       "      <th>4</th>\n",
       "      <td>2020-01-05</td>\n",
       "      <td>135.59</td>\n",
       "    </tr>\n",
       "  </tbody>\n",
       "</table>\n",
       "</div>"
      ],
      "text/plain": [
       "        Date   Close\n",
       "0 2020-01-01  130.75\n",
       "1 2020-01-02  127.19\n",
       "2 2020-01-03  134.27\n",
       "3 2020-01-04  134.33\n",
       "4 2020-01-05  135.59"
      ]
     },
     "execution_count": 227,
     "metadata": {},
     "output_type": "execute_result"
    }
   ],
   "source": [
    "eth = eth[['Date', 'Close']]\n",
    "eth.head()"
   ]
  },
  {
   "cell_type": "code",
   "execution_count": 228,
   "metadata": {},
   "outputs": [
    {
     "data": {
      "text/html": [
       "<div>\n",
       "<style scoped>\n",
       "    .dataframe tbody tr th:only-of-type {\n",
       "        vertical-align: middle;\n",
       "    }\n",
       "\n",
       "    .dataframe tbody tr th {\n",
       "        vertical-align: top;\n",
       "    }\n",
       "\n",
       "    .dataframe thead th {\n",
       "        text-align: right;\n",
       "    }\n",
       "</style>\n",
       "<table border=\"1\" class=\"dataframe\">\n",
       "  <thead>\n",
       "    <tr style=\"text-align: right;\">\n",
       "      <th></th>\n",
       "      <th>Date</th>\n",
       "      <th>Close</th>\n",
       "    </tr>\n",
       "  </thead>\n",
       "  <tbody>\n",
       "    <tr>\n",
       "      <th>0</th>\n",
       "      <td>2020-01-01</td>\n",
       "      <td>7199.8</td>\n",
       "    </tr>\n",
       "    <tr>\n",
       "      <th>1</th>\n",
       "      <td>2020-01-02</td>\n",
       "      <td>6967.0</td>\n",
       "    </tr>\n",
       "    <tr>\n",
       "      <th>2</th>\n",
       "      <td>2020-01-03</td>\n",
       "      <td>7343.1</td>\n",
       "    </tr>\n",
       "    <tr>\n",
       "      <th>3</th>\n",
       "      <td>2020-01-04</td>\n",
       "      <td>7376.8</td>\n",
       "    </tr>\n",
       "    <tr>\n",
       "      <th>4</th>\n",
       "      <td>2020-01-05</td>\n",
       "      <td>7372.5</td>\n",
       "    </tr>\n",
       "  </tbody>\n",
       "</table>\n",
       "</div>"
      ],
      "text/plain": [
       "        Date   Close\n",
       "0 2020-01-01  7199.8\n",
       "1 2020-01-02  6967.0\n",
       "2 2020-01-03  7343.1\n",
       "3 2020-01-04  7376.8\n",
       "4 2020-01-05  7372.5"
      ]
     },
     "execution_count": 228,
     "metadata": {},
     "output_type": "execute_result"
    }
   ],
   "source": [
    "ada = btc[['Date', 'Close']]\n",
    "ada.head()"
   ]
  },
  {
   "cell_type": "code",
   "execution_count": 229,
   "metadata": {},
   "outputs": [
    {
     "data": {
      "text/html": [
       "<div>\n",
       "<style scoped>\n",
       "    .dataframe tbody tr th:only-of-type {\n",
       "        vertical-align: middle;\n",
       "    }\n",
       "\n",
       "    .dataframe tbody tr th {\n",
       "        vertical-align: top;\n",
       "    }\n",
       "\n",
       "    .dataframe thead th {\n",
       "        text-align: right;\n",
       "    }\n",
       "</style>\n",
       "<table border=\"1\" class=\"dataframe\">\n",
       "  <thead>\n",
       "    <tr style=\"text-align: right;\">\n",
       "      <th></th>\n",
       "      <th>Date</th>\n",
       "      <th>Close_x</th>\n",
       "      <th>Close_y</th>\n",
       "    </tr>\n",
       "  </thead>\n",
       "  <tbody>\n",
       "    <tr>\n",
       "      <th>0</th>\n",
       "      <td>2020-01-02</td>\n",
       "      <td>3257.85</td>\n",
       "      <td>9092.19</td>\n",
       "    </tr>\n",
       "    <tr>\n",
       "      <th>1</th>\n",
       "      <td>2020-01-03</td>\n",
       "      <td>3234.85</td>\n",
       "      <td>9020.77</td>\n",
       "    </tr>\n",
       "    <tr>\n",
       "      <th>2</th>\n",
       "      <td>2020-01-06</td>\n",
       "      <td>3246.28</td>\n",
       "      <td>9071.47</td>\n",
       "    </tr>\n",
       "    <tr>\n",
       "      <th>3</th>\n",
       "      <td>2020-01-07</td>\n",
       "      <td>3237.18</td>\n",
       "      <td>9068.58</td>\n",
       "    </tr>\n",
       "    <tr>\n",
       "      <th>4</th>\n",
       "      <td>2020-01-08</td>\n",
       "      <td>3253.05</td>\n",
       "      <td>9129.24</td>\n",
       "    </tr>\n",
       "  </tbody>\n",
       "</table>\n",
       "</div>"
      ],
      "text/plain": [
       "        Date  Close_x  Close_y\n",
       "0 2020-01-02  3257.85  9092.19\n",
       "1 2020-01-03  3234.85  9020.77\n",
       "2 2020-01-06  3246.28  9071.47\n",
       "3 2020-01-07  3237.18  9068.58\n",
       "4 2020-01-08  3253.05  9129.24"
      ]
     },
     "execution_count": 229,
     "metadata": {},
     "output_type": "execute_result"
    }
   ],
   "source": [
    "all = sp500.merge(nasdaq, on='Date', how='left')\n",
    "all.head()"
   ]
  },
  {
   "cell_type": "code",
   "execution_count": 230,
   "metadata": {},
   "outputs": [
    {
     "data": {
      "text/html": [
       "<div>\n",
       "<style scoped>\n",
       "    .dataframe tbody tr th:only-of-type {\n",
       "        vertical-align: middle;\n",
       "    }\n",
       "\n",
       "    .dataframe tbody tr th {\n",
       "        vertical-align: top;\n",
       "    }\n",
       "\n",
       "    .dataframe thead th {\n",
       "        text-align: right;\n",
       "    }\n",
       "</style>\n",
       "<table border=\"1\" class=\"dataframe\">\n",
       "  <thead>\n",
       "    <tr style=\"text-align: right;\">\n",
       "      <th></th>\n",
       "      <th>Date</th>\n",
       "      <th>Close_x</th>\n",
       "      <th>Close_y</th>\n",
       "      <th>Close</th>\n",
       "    </tr>\n",
       "  </thead>\n",
       "  <tbody>\n",
       "    <tr>\n",
       "      <th>0</th>\n",
       "      <td>2020-01-02</td>\n",
       "      <td>3257.85</td>\n",
       "      <td>9092.19</td>\n",
       "      <td>6967.0</td>\n",
       "    </tr>\n",
       "    <tr>\n",
       "      <th>1</th>\n",
       "      <td>2020-01-03</td>\n",
       "      <td>3234.85</td>\n",
       "      <td>9020.77</td>\n",
       "      <td>7343.1</td>\n",
       "    </tr>\n",
       "    <tr>\n",
       "      <th>2</th>\n",
       "      <td>2020-01-06</td>\n",
       "      <td>3246.28</td>\n",
       "      <td>9071.47</td>\n",
       "      <td>7759.1</td>\n",
       "    </tr>\n",
       "    <tr>\n",
       "      <th>3</th>\n",
       "      <td>2020-01-07</td>\n",
       "      <td>3237.18</td>\n",
       "      <td>9068.58</td>\n",
       "      <td>8155.7</td>\n",
       "    </tr>\n",
       "    <tr>\n",
       "      <th>4</th>\n",
       "      <td>2020-01-08</td>\n",
       "      <td>3253.05</td>\n",
       "      <td>9129.24</td>\n",
       "      <td>8059.6</td>\n",
       "    </tr>\n",
       "  </tbody>\n",
       "</table>\n",
       "</div>"
      ],
      "text/plain": [
       "        Date  Close_x  Close_y   Close\n",
       "0 2020-01-02  3257.85  9092.19  6967.0\n",
       "1 2020-01-03  3234.85  9020.77  7343.1\n",
       "2 2020-01-06  3246.28  9071.47  7759.1\n",
       "3 2020-01-07  3237.18  9068.58  8155.7\n",
       "4 2020-01-08  3253.05  9129.24  8059.6"
      ]
     },
     "execution_count": 230,
     "metadata": {},
     "output_type": "execute_result"
    }
   ],
   "source": [
    "all = all.merge(btc, on='Date', how='left')\n",
    "all.head()"
   ]
  },
  {
   "cell_type": "code",
   "execution_count": 231,
   "metadata": {},
   "outputs": [
    {
     "data": {
      "text/html": [
       "<div>\n",
       "<style scoped>\n",
       "    .dataframe tbody tr th:only-of-type {\n",
       "        vertical-align: middle;\n",
       "    }\n",
       "\n",
       "    .dataframe tbody tr th {\n",
       "        vertical-align: top;\n",
       "    }\n",
       "\n",
       "    .dataframe thead th {\n",
       "        text-align: right;\n",
       "    }\n",
       "</style>\n",
       "<table border=\"1\" class=\"dataframe\">\n",
       "  <thead>\n",
       "    <tr style=\"text-align: right;\">\n",
       "      <th></th>\n",
       "      <th>Date</th>\n",
       "      <th>Close_x</th>\n",
       "      <th>Close_y</th>\n",
       "      <th>Close_x</th>\n",
       "      <th>Close_y</th>\n",
       "    </tr>\n",
       "  </thead>\n",
       "  <tbody>\n",
       "    <tr>\n",
       "      <th>0</th>\n",
       "      <td>2020-01-02</td>\n",
       "      <td>3257.85</td>\n",
       "      <td>9092.19</td>\n",
       "      <td>6967.0</td>\n",
       "      <td>127.19</td>\n",
       "    </tr>\n",
       "    <tr>\n",
       "      <th>1</th>\n",
       "      <td>2020-01-03</td>\n",
       "      <td>3234.85</td>\n",
       "      <td>9020.77</td>\n",
       "      <td>7343.1</td>\n",
       "      <td>134.27</td>\n",
       "    </tr>\n",
       "    <tr>\n",
       "      <th>2</th>\n",
       "      <td>2020-01-06</td>\n",
       "      <td>3246.28</td>\n",
       "      <td>9071.47</td>\n",
       "      <td>7759.1</td>\n",
       "      <td>144.08</td>\n",
       "    </tr>\n",
       "    <tr>\n",
       "      <th>3</th>\n",
       "      <td>2020-01-07</td>\n",
       "      <td>3237.18</td>\n",
       "      <td>9068.58</td>\n",
       "      <td>8155.7</td>\n",
       "      <td>143.04</td>\n",
       "    </tr>\n",
       "    <tr>\n",
       "      <th>4</th>\n",
       "      <td>2020-01-08</td>\n",
       "      <td>3253.05</td>\n",
       "      <td>9129.24</td>\n",
       "      <td>8059.6</td>\n",
       "      <td>140.81</td>\n",
       "    </tr>\n",
       "  </tbody>\n",
       "</table>\n",
       "</div>"
      ],
      "text/plain": [
       "        Date  Close_x  Close_y  Close_x  Close_y\n",
       "0 2020-01-02  3257.85  9092.19   6967.0   127.19\n",
       "1 2020-01-03  3234.85  9020.77   7343.1   134.27\n",
       "2 2020-01-06  3246.28  9071.47   7759.1   144.08\n",
       "3 2020-01-07  3237.18  9068.58   8155.7   143.04\n",
       "4 2020-01-08  3253.05  9129.24   8059.6   140.81"
      ]
     },
     "execution_count": 231,
     "metadata": {},
     "output_type": "execute_result"
    }
   ],
   "source": [
    "all = all.merge(eth, on='Date', how='left')\n",
    "all.head()"
   ]
  },
  {
   "cell_type": "code",
   "execution_count": 232,
   "metadata": {},
   "outputs": [
    {
     "data": {
      "text/html": [
       "<div>\n",
       "<style scoped>\n",
       "    .dataframe tbody tr th:only-of-type {\n",
       "        vertical-align: middle;\n",
       "    }\n",
       "\n",
       "    .dataframe tbody tr th {\n",
       "        vertical-align: top;\n",
       "    }\n",
       "\n",
       "    .dataframe thead th {\n",
       "        text-align: right;\n",
       "    }\n",
       "</style>\n",
       "<table border=\"1\" class=\"dataframe\">\n",
       "  <thead>\n",
       "    <tr style=\"text-align: right;\">\n",
       "      <th></th>\n",
       "      <th>Date</th>\n",
       "      <th>Close_x</th>\n",
       "      <th>Close_y</th>\n",
       "      <th>Close_x</th>\n",
       "      <th>Close_y</th>\n",
       "      <th>Close</th>\n",
       "    </tr>\n",
       "  </thead>\n",
       "  <tbody>\n",
       "    <tr>\n",
       "      <th>0</th>\n",
       "      <td>2020-01-02</td>\n",
       "      <td>3257.85</td>\n",
       "      <td>9092.19</td>\n",
       "      <td>6967.0</td>\n",
       "      <td>127.19</td>\n",
       "      <td>6967.0</td>\n",
       "    </tr>\n",
       "    <tr>\n",
       "      <th>1</th>\n",
       "      <td>2020-01-03</td>\n",
       "      <td>3234.85</td>\n",
       "      <td>9020.77</td>\n",
       "      <td>7343.1</td>\n",
       "      <td>134.27</td>\n",
       "      <td>7343.1</td>\n",
       "    </tr>\n",
       "    <tr>\n",
       "      <th>2</th>\n",
       "      <td>2020-01-06</td>\n",
       "      <td>3246.28</td>\n",
       "      <td>9071.47</td>\n",
       "      <td>7759.1</td>\n",
       "      <td>144.08</td>\n",
       "      <td>7759.1</td>\n",
       "    </tr>\n",
       "    <tr>\n",
       "      <th>3</th>\n",
       "      <td>2020-01-07</td>\n",
       "      <td>3237.18</td>\n",
       "      <td>9068.58</td>\n",
       "      <td>8155.7</td>\n",
       "      <td>143.04</td>\n",
       "      <td>8155.7</td>\n",
       "    </tr>\n",
       "    <tr>\n",
       "      <th>4</th>\n",
       "      <td>2020-01-08</td>\n",
       "      <td>3253.05</td>\n",
       "      <td>9129.24</td>\n",
       "      <td>8059.6</td>\n",
       "      <td>140.81</td>\n",
       "      <td>8059.6</td>\n",
       "    </tr>\n",
       "  </tbody>\n",
       "</table>\n",
       "</div>"
      ],
      "text/plain": [
       "        Date  Close_x  Close_y  Close_x  Close_y   Close\n",
       "0 2020-01-02  3257.85  9092.19   6967.0   127.19  6967.0\n",
       "1 2020-01-03  3234.85  9020.77   7343.1   134.27  7343.1\n",
       "2 2020-01-06  3246.28  9071.47   7759.1   144.08  7759.1\n",
       "3 2020-01-07  3237.18  9068.58   8155.7   143.04  8155.7\n",
       "4 2020-01-08  3253.05  9129.24   8059.6   140.81  8059.6"
      ]
     },
     "execution_count": 232,
     "metadata": {},
     "output_type": "execute_result"
    }
   ],
   "source": [
    "all = all.merge(ada, on='Date', how='left')\n",
    "all.head()"
   ]
  },
  {
   "cell_type": "code",
   "execution_count": 233,
   "metadata": {},
   "outputs": [],
   "source": [
    "# fig, ax = plt.subplots()\n",
    "# ax.plot(all['Date'], all[[stock, 'Bitcoin']])\n",
    "# ax.set_ylabel('Price')\n",
    "# ax.set_xlabel('Date')\n",
    "# # ax.set_title('Bitcoin')\n",
    "# plt.xticks(rotation=45)\n",
    "# # plt.text(x=1970, y=400, s=r'Stock Price at this interval')\n",
    "# # ax.properties()['children'][0].set_color('black')\n",
    "# ax.properties()['children'][1].set_color('black')\n",
    "# ax.properties()['children'][2].set_color('purple')\n",
    "# fig.set_size_inches(18.5, 10.5)\n",
    "# plt.grid()\n",
    "# # ax.legend(['Close', '50d', '200d'], loc='upper left')\n",
    "# ax.set_facecolor('xkcd:light grey')\n",
    "# # graphPath = 'data/stocks'\n",
    "# # graphName = input('Save graph as: ') + '.png'\n",
    "# # graphFileName = os.path.join(graphPath, graphName)\n",
    "# # plt.savefig(graphFileName)"
   ]
  },
  {
   "cell_type": "code",
   "execution_count": 234,
   "metadata": {},
   "outputs": [],
   "source": [
    "# fig, ax = plt.subplots()\n",
    "# # ax3 = ax.twinx()\n",
    "# # rspine = ax3.spines['right']\n",
    "# # rspine.set_position(('axes', 1.15))\n",
    "# # ax3.set_frame_on(True)\n",
    "# # ax3.patch.set_visible(False)\n",
    "# # fig.subplots_adjust(right=0.7)\n",
    "# stock.plot(ax=ax, color='black')\n",
    "# all.Bitcoin.plot(ax=ax, secondary_y=True)\n",
    "# plt.grid()\n",
    "# fig.set_size_inches(18.5, 10.5)\n",
    "# ax.legend(['Close', '50d', '200d'], loc='upper left')\n",
    "# ax.set_facecolor('xkcd:light grey')\n",
    "# # add legend --> take advantage of pandas providing us access\n",
    "# # to the line associated with the right part of the axis\n",
    "# # ax3.legend([ax.get_lines()[0], ax.right_ax.get_lines()[0], ax3.get_lines()[0]],\\\n",
    "# #            ['A','B'], bbox_to_anchor=(1.5, 0.5))"
   ]
  },
  {
   "cell_type": "code",
   "execution_count": 235,
   "metadata": {},
   "outputs": [
    {
     "data": {
      "text/plain": [
       "<AxesSubplot:>"
      ]
     },
     "execution_count": 235,
     "metadata": {},
     "output_type": "execute_result"
    },
    {
     "data": {
      "image/png": "[encoded data removed]",
      "text/plain": [
       "<Figure size 432x288 with 2 Axes>"
      ]
     },
     "metadata": {
      "needs_background": "light"
     },
     "output_type": "display_data"
    }
   ],
   "source": [
    "corr = all.corr()\n",
    "sns.heatmap(corr, annot=True, cmap='coolwarm')"
   ]
  },
  {
   "cell_type": "code",
   "execution_count": 236,
   "metadata": {
    "scrolled": false
   },
   "outputs": [],
   "source": [
    "# fig, ax1 = plt.subplots()\n",
    "# all.stock.plot(ax=ax1, color='black', label=stock)\n",
    "# ax2 = ax1.twinx()\n",
    "# all.Bitcoin.plot(ax=ax2, label='Bitcoin')\n",
    "# ax1.set_ylabel(stock)\n",
    "# ax2.set_ylabel('Bitcoin')\n",
    "# ax1.legend(loc='upper left')\n",
    "# ax2.legend(loc='upper center')\n",
    "# plt.grid()\n",
    "# ax.set_facecolor('xkcd:light grey')\n",
    "# fig.set_size_inches(18.5, 10.5)"
   ]
  },
  {
   "cell_type": "code",
   "execution_count": 237,
   "metadata": {},
   "outputs": [],
   "source": [
    "# ax = all.plot('Date', 'Close_x')\n",
    "# ax1 = ax.twinx()\n",
    "# all.plot('Date', 'Close_y', ax=ax1, color='black')"
   ]
  },
  {
   "cell_type": "code",
   "execution_count": 238,
   "metadata": {},
   "outputs": [],
   "source": [
    "# ax = all.plot('Date',stock, color='black')\n",
    "# all.plot('Date','Bitcoin',secondary_y=True, ax=ax)\n",
    "# ax.patch.set_facecolor('lightgrey')\n",
    "# plt.grid()"
   ]
  }
 ],
 "metadata": {
  "kernelspec": {
   "display_name": "Python 3",
   "language": "python",
   "name": "python3"
  },
  "language_info": {
   "codemirror_mode": {
    "name": "ipython",
    "version": 3
   },
   "file_extension": ".py",
   "mimetype": "text/x-python",
   "name": "python",
   "nbconvert_exporter": "python",
   "pygments_lexer": "ipython3",
   "version": "3.7.6"
  }
 },
 "nbformat": 4,
 "nbformat_minor": 4
}
