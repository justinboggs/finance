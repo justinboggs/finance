{
 "cells": [
  {
   "cell_type": "code",
   "execution_count": 9,
   "metadata": {},
   "outputs": [],
   "source": [
    "import pandas_datareader as pdr\n",
    "import datetime\n",
    "import pandas as pd"
   ]
  },
  {
   "cell_type": "code",
   "execution_count": 2,
   "metadata": {},
   "outputs": [],
   "source": [
    "aapl = pdr.get_data_yahoo('AAPL', start=datetime.datetime(2006, 10, 1), end=datetime.datetime(2012, 1, 1))"
   ]
  },
  {
   "cell_type": "code",
   "execution_count": 3,
   "metadata": {},
   "outputs": [],
   "source": [
    "import quandl"
   ]
  },
  {
   "cell_type": "code",
   "execution_count": 4,
   "metadata": {},
   "outputs": [],
   "source": [
    "aaplq = quandl.get('WIKI/AAPL', start_date='2006-10-01', end_date='2012-01-01')"
   ]
  },
  {
   "cell_type": "code",
   "execution_count": 5,
   "metadata": {},
   "outputs": [
    {
     "data": {
      "text/html": [
       "<div>\n",
       "<style scoped>\n",
       "    .dataframe tbody tr th:only-of-type {\n",
       "        vertical-align: middle;\n",
       "    }\n",
       "\n",
       "    .dataframe tbody tr th {\n",
       "        vertical-align: top;\n",
       "    }\n",
       "\n",
       "    .dataframe thead th {\n",
       "        text-align: right;\n",
       "    }\n",
       "</style>\n",
       "<table border=\"1\" class=\"dataframe\">\n",
       "  <thead>\n",
       "    <tr style=\"text-align: right;\">\n",
       "      <th></th>\n",
       "      <th>High</th>\n",
       "      <th>Low</th>\n",
       "      <th>Open</th>\n",
       "      <th>Close</th>\n",
       "      <th>Volume</th>\n",
       "      <th>Adj Close</th>\n",
       "    </tr>\n",
       "    <tr>\n",
       "      <th>Date</th>\n",
       "      <th></th>\n",
       "      <th></th>\n",
       "      <th></th>\n",
       "      <th></th>\n",
       "      <th></th>\n",
       "      <th></th>\n",
       "    </tr>\n",
       "  </thead>\n",
       "  <tbody>\n",
       "    <tr>\n",
       "      <th>2006-10-02</th>\n",
       "      <td>2.709643</td>\n",
       "      <td>2.653571</td>\n",
       "      <td>2.682143</td>\n",
       "      <td>2.673571</td>\n",
       "      <td>712639200</td>\n",
       "      <td>2.287629</td>\n",
       "    </tr>\n",
       "    <tr>\n",
       "      <th>2006-10-03</th>\n",
       "      <td>2.676786</td>\n",
       "      <td>2.613929</td>\n",
       "      <td>2.658929</td>\n",
       "      <td>2.645714</td>\n",
       "      <td>790708800</td>\n",
       "      <td>2.263793</td>\n",
       "    </tr>\n",
       "    <tr>\n",
       "      <th>2006-10-04</th>\n",
       "      <td>2.695000</td>\n",
       "      <td>2.612857</td>\n",
       "      <td>2.646429</td>\n",
       "      <td>2.692143</td>\n",
       "      <td>829082800</td>\n",
       "      <td>2.303519</td>\n",
       "    </tr>\n",
       "    <tr>\n",
       "      <th>2006-10-05</th>\n",
       "      <td>2.720000</td>\n",
       "      <td>2.647500</td>\n",
       "      <td>2.661786</td>\n",
       "      <td>2.672500</td>\n",
       "      <td>683883200</td>\n",
       "      <td>2.286713</td>\n",
       "    </tr>\n",
       "    <tr>\n",
       "      <th>2006-10-06</th>\n",
       "      <td>2.680000</td>\n",
       "      <td>2.636071</td>\n",
       "      <td>2.657857</td>\n",
       "      <td>2.650714</td>\n",
       "      <td>466958800</td>\n",
       "      <td>2.268071</td>\n",
       "    </tr>\n",
       "  </tbody>\n",
       "</table>\n",
       "</div>"
      ],
      "text/plain": [
       "                High       Low      Open     Close     Volume  Adj Close\n",
       "Date                                                                    \n",
       "2006-10-02  2.709643  2.653571  2.682143  2.673571  712639200   2.287629\n",
       "2006-10-03  2.676786  2.613929  2.658929  2.645714  790708800   2.263793\n",
       "2006-10-04  2.695000  2.612857  2.646429  2.692143  829082800   2.303519\n",
       "2006-10-05  2.720000  2.647500  2.661786  2.672500  683883200   2.286713\n",
       "2006-10-06  2.680000  2.636071  2.657857  2.650714  466958800   2.268071"
      ]
     },
     "execution_count": 5,
     "metadata": {},
     "output_type": "execute_result"
    }
   ],
   "source": [
    "aapl.head()"
   ]
  },
  {
   "cell_type": "code",
   "execution_count": 6,
   "metadata": {},
   "outputs": [
    {
     "data": {
      "text/html": [
       "<div>\n",
       "<style scoped>\n",
       "    .dataframe tbody tr th:only-of-type {\n",
       "        vertical-align: middle;\n",
       "    }\n",
       "\n",
       "    .dataframe tbody tr th {\n",
       "        vertical-align: top;\n",
       "    }\n",
       "\n",
       "    .dataframe thead th {\n",
       "        text-align: right;\n",
       "    }\n",
       "</style>\n",
       "<table border=\"1\" class=\"dataframe\">\n",
       "  <thead>\n",
       "    <tr style=\"text-align: right;\">\n",
       "      <th></th>\n",
       "      <th>Open</th>\n",
       "      <th>High</th>\n",
       "      <th>Low</th>\n",
       "      <th>Close</th>\n",
       "      <th>Volume</th>\n",
       "      <th>Ex-Dividend</th>\n",
       "      <th>Split Ratio</th>\n",
       "      <th>Adj. Open</th>\n",
       "      <th>Adj. High</th>\n",
       "      <th>Adj. Low</th>\n",
       "      <th>Adj. Close</th>\n",
       "      <th>Adj. Volume</th>\n",
       "    </tr>\n",
       "    <tr>\n",
       "      <th>Date</th>\n",
       "      <th></th>\n",
       "      <th></th>\n",
       "      <th></th>\n",
       "      <th></th>\n",
       "      <th></th>\n",
       "      <th></th>\n",
       "      <th></th>\n",
       "      <th></th>\n",
       "      <th></th>\n",
       "      <th></th>\n",
       "      <th></th>\n",
       "      <th></th>\n",
       "    </tr>\n",
       "  </thead>\n",
       "  <tbody>\n",
       "    <tr>\n",
       "      <th>2006-10-02</th>\n",
       "      <td>75.10</td>\n",
       "      <td>75.870</td>\n",
       "      <td>74.30</td>\n",
       "      <td>74.86</td>\n",
       "      <td>25451400.0</td>\n",
       "      <td>0.0</td>\n",
       "      <td>1.0</td>\n",
       "      <td>9.651397</td>\n",
       "      <td>9.750352</td>\n",
       "      <td>9.548586</td>\n",
       "      <td>9.620553</td>\n",
       "      <td>178159800.0</td>\n",
       "    </tr>\n",
       "    <tr>\n",
       "      <th>2006-10-03</th>\n",
       "      <td>74.45</td>\n",
       "      <td>74.950</td>\n",
       "      <td>73.19</td>\n",
       "      <td>74.07</td>\n",
       "      <td>28239600.0</td>\n",
       "      <td>0.0</td>\n",
       "      <td>1.0</td>\n",
       "      <td>9.567863</td>\n",
       "      <td>9.632120</td>\n",
       "      <td>9.405935</td>\n",
       "      <td>9.519027</td>\n",
       "      <td>197677200.0</td>\n",
       "    </tr>\n",
       "    <tr>\n",
       "      <th>2006-10-04</th>\n",
       "      <td>74.10</td>\n",
       "      <td>75.462</td>\n",
       "      <td>73.16</td>\n",
       "      <td>75.38</td>\n",
       "      <td>29610100.0</td>\n",
       "      <td>0.0</td>\n",
       "      <td>1.0</td>\n",
       "      <td>9.522883</td>\n",
       "      <td>9.697919</td>\n",
       "      <td>9.402080</td>\n",
       "      <td>9.687381</td>\n",
       "      <td>207270700.0</td>\n",
       "    </tr>\n",
       "    <tr>\n",
       "      <th>2006-10-05</th>\n",
       "      <td>74.53</td>\n",
       "      <td>76.160</td>\n",
       "      <td>74.13</td>\n",
       "      <td>74.83</td>\n",
       "      <td>24424400.0</td>\n",
       "      <td>0.0</td>\n",
       "      <td>1.0</td>\n",
       "      <td>9.578144</td>\n",
       "      <td>9.787621</td>\n",
       "      <td>9.526738</td>\n",
       "      <td>9.616698</td>\n",
       "      <td>170970800.0</td>\n",
       "    </tr>\n",
       "    <tr>\n",
       "      <th>2006-10-06</th>\n",
       "      <td>74.42</td>\n",
       "      <td>75.040</td>\n",
       "      <td>73.81</td>\n",
       "      <td>74.22</td>\n",
       "      <td>16677100.0</td>\n",
       "      <td>0.0</td>\n",
       "      <td>1.0</td>\n",
       "      <td>9.564007</td>\n",
       "      <td>9.643686</td>\n",
       "      <td>9.485614</td>\n",
       "      <td>9.538304</td>\n",
       "      <td>116739700.0</td>\n",
       "    </tr>\n",
       "  </tbody>\n",
       "</table>\n",
       "</div>"
      ],
      "text/plain": [
       "             Open    High    Low  Close      Volume  Ex-Dividend  Split Ratio  \\\n",
       "Date                                                                            \n",
       "2006-10-02  75.10  75.870  74.30  74.86  25451400.0          0.0          1.0   \n",
       "2006-10-03  74.45  74.950  73.19  74.07  28239600.0          0.0          1.0   \n",
       "2006-10-04  74.10  75.462  73.16  75.38  29610100.0          0.0          1.0   \n",
       "2006-10-05  74.53  76.160  74.13  74.83  24424400.0          0.0          1.0   \n",
       "2006-10-06  74.42  75.040  73.81  74.22  16677100.0          0.0          1.0   \n",
       "\n",
       "            Adj. Open  Adj. High  Adj. Low  Adj. Close  Adj. Volume  \n",
       "Date                                                                 \n",
       "2006-10-02   9.651397   9.750352  9.548586    9.620553  178159800.0  \n",
       "2006-10-03   9.567863   9.632120  9.405935    9.519027  197677200.0  \n",
       "2006-10-04   9.522883   9.697919  9.402080    9.687381  207270700.0  \n",
       "2006-10-05   9.578144   9.787621  9.526738    9.616698  170970800.0  \n",
       "2006-10-06   9.564007   9.643686  9.485614    9.538304  116739700.0  "
      ]
     },
     "execution_count": 6,
     "metadata": {},
     "output_type": "execute_result"
    }
   ],
   "source": [
    "aaplq.head()"
   ]
  },
  {
   "cell_type": "code",
   "execution_count": 11,
   "metadata": {},
   "outputs": [],
   "source": [
    "aapl.to_csv('data/algo_test.csv')"
   ]
  },
  {
   "cell_type": "code",
   "execution_count": 12,
   "metadata": {},
   "outputs": [],
   "source": [
    "df = pd.read_csv('data/algo_test.csv', header=0, index_col='Date', parse_dates=True)"
   ]
  },
  {
   "cell_type": "code",
   "execution_count": 13,
   "metadata": {},
   "outputs": [
    {
     "data": {
      "text/html": [
       "<div>\n",
       "<style scoped>\n",
       "    .dataframe tbody tr th:only-of-type {\n",
       "        vertical-align: middle;\n",
       "    }\n",
       "\n",
       "    .dataframe tbody tr th {\n",
       "        vertical-align: top;\n",
       "    }\n",
       "\n",
       "    .dataframe thead th {\n",
       "        text-align: right;\n",
       "    }\n",
       "</style>\n",
       "<table border=\"1\" class=\"dataframe\">\n",
       "  <thead>\n",
       "    <tr style=\"text-align: right;\">\n",
       "      <th></th>\n",
       "      <th>High</th>\n",
       "      <th>Low</th>\n",
       "      <th>Open</th>\n",
       "      <th>Close</th>\n",
       "      <th>Volume</th>\n",
       "      <th>Adj Close</th>\n",
       "    </tr>\n",
       "    <tr>\n",
       "      <th>Date</th>\n",
       "      <th></th>\n",
       "      <th></th>\n",
       "      <th></th>\n",
       "      <th></th>\n",
       "      <th></th>\n",
       "      <th></th>\n",
       "    </tr>\n",
       "  </thead>\n",
       "  <tbody>\n",
       "    <tr>\n",
       "      <th>2006-10-02</th>\n",
       "      <td>2.709643</td>\n",
       "      <td>2.653571</td>\n",
       "      <td>2.682143</td>\n",
       "      <td>2.673571</td>\n",
       "      <td>712639200</td>\n",
       "      <td>2.287629</td>\n",
       "    </tr>\n",
       "    <tr>\n",
       "      <th>2006-10-03</th>\n",
       "      <td>2.676786</td>\n",
       "      <td>2.613929</td>\n",
       "      <td>2.658929</td>\n",
       "      <td>2.645714</td>\n",
       "      <td>790708800</td>\n",
       "      <td>2.263793</td>\n",
       "    </tr>\n",
       "    <tr>\n",
       "      <th>2006-10-04</th>\n",
       "      <td>2.695000</td>\n",
       "      <td>2.612857</td>\n",
       "      <td>2.646429</td>\n",
       "      <td>2.692143</td>\n",
       "      <td>829082800</td>\n",
       "      <td>2.303519</td>\n",
       "    </tr>\n",
       "    <tr>\n",
       "      <th>2006-10-05</th>\n",
       "      <td>2.720000</td>\n",
       "      <td>2.647500</td>\n",
       "      <td>2.661786</td>\n",
       "      <td>2.672500</td>\n",
       "      <td>683883200</td>\n",
       "      <td>2.286713</td>\n",
       "    </tr>\n",
       "    <tr>\n",
       "      <th>2006-10-06</th>\n",
       "      <td>2.680000</td>\n",
       "      <td>2.636071</td>\n",
       "      <td>2.657857</td>\n",
       "      <td>2.650714</td>\n",
       "      <td>466958800</td>\n",
       "      <td>2.268071</td>\n",
       "    </tr>\n",
       "  </tbody>\n",
       "</table>\n",
       "</div>"
      ],
      "text/plain": [
       "                High       Low      Open     Close     Volume  Adj Close\n",
       "Date                                                                    \n",
       "2006-10-02  2.709643  2.653571  2.682143  2.673571  712639200   2.287629\n",
       "2006-10-03  2.676786  2.613929  2.658929  2.645714  790708800   2.263793\n",
       "2006-10-04  2.695000  2.612857  2.646429  2.692143  829082800   2.303519\n",
       "2006-10-05  2.720000  2.647500  2.661786  2.672500  683883200   2.286713\n",
       "2006-10-06  2.680000  2.636071  2.657857  2.650714  466958800   2.268071"
      ]
     },
     "execution_count": 13,
     "metadata": {},
     "output_type": "execute_result"
    }
   ],
   "source": [
    "df.head()"
   ]
  },
  {
   "cell_type": "code",
   "execution_count": 16,
   "metadata": {},
   "outputs": [
    {
     "name": "stdout",
     "output_type": "stream",
     "text": [
      "                 High        Low       Open      Close      Volume  Adj Close\n",
      "Date                                                                         \n",
      "2011-08-26  13.707143  13.242857  13.256071  13.699286   641477200  11.721732\n",
      "2010-04-29   9.642858   9.357500   9.393572   9.594286   558840800   8.209305\n",
      "2007-02-22   3.243214   3.161786   3.242857   3.196786   838224800   2.735314\n",
      "2008-11-26   3.401786   3.208929   3.211429   3.392857   899836000   2.903082\n",
      "2008-03-06   4.553571   4.314643   4.450357   4.318929  1473698800   3.695472\n",
      "2009-05-27   4.820714   4.675357   4.706429   4.751786   646422000   4.065843\n",
      "2011-02-11  12.778571  12.626429  12.669642  12.744643   367572800  10.904893\n",
      "2011-10-05  13.565000  12.867857  13.137857  13.508928   786469600  11.558855\n",
      "2010-12-09  11.517858  11.393572  11.504642  11.420000   294151200   9.771471\n",
      "2009-12-16   7.017857   6.948214   6.967857   6.965357   352984800   5.959875\n",
      "2008-02-25   4.291786   4.166429   4.235357   4.276429  1256774400   3.659106\n",
      "2008-10-20   3.572500   3.344286   3.563571   3.515714  1549170000   3.008204\n",
      "2010-11-24  11.264286  11.133928  11.142858  11.242857   413725200   9.619898\n",
      "2007-04-16   3.267857   3.223214   3.234643   3.265357   609033600   2.793988\n",
      "2007-12-05   6.642857   6.514643   6.531785   6.625000   892402000   5.668650\n",
      "2011-09-16  14.303572  14.108214  14.126429  14.303572   698513200  12.238785\n",
      "2010-11-15  11.090714  10.938214  11.016429  10.965714   403606000   9.382764\n",
      "2007-05-16   3.886786   3.693571   3.876071   3.833571  1126767600   3.280178\n",
      "2006-12-01   3.297500   3.217857   3.278571   3.261429   795079600   2.790626\n",
      "2011-06-10  11.845000  11.625357  11.805357  11.639286   433955200   9.959100\n"
     ]
    }
   ],
   "source": [
    "sample = aapl.sample(20)\n",
    "print(sample)"
   ]
  },
  {
   "cell_type": "code",
   "execution_count": 18,
   "metadata": {},
   "outputs": [
    {
     "name": "stdout",
     "output_type": "stream",
     "text": [
      "                 High        Low       Open      Close        Volume  \\\n",
      "Date                                                                   \n",
      "2006-10-31   2.780942   2.723279   2.750731   2.754497  6.539980e+08   \n",
      "2006-11-30   3.078656   3.007245   3.040391   3.048027  6.588040e+08   \n",
      "2006-12-31   3.136625   3.051393   3.103964   3.088268  8.445396e+08   \n",
      "2007-01-31   3.220214   3.130643   3.180589   3.174339  1.360489e+09   \n",
      "2007-02-28   3.095733   3.027951   3.063026   3.061711  7.222292e+08   \n",
      "...               ...        ...        ...        ...           ...   \n",
      "2011-08-31  13.637500  13.255326  13.473587  13.455807  7.018521e+08   \n",
      "2011-09-30  14.186480  13.859524  14.013554  14.017619  5.703547e+08   \n",
      "2011-10-31  14.350595  13.983061  14.169422  14.186786  6.257823e+08   \n",
      "2011-11-30  13.888554  13.631650  13.795289  13.743401  4.268429e+08   \n",
      "2011-12-31  14.130884  13.933554  14.027517  14.033231  3.003111e+08   \n",
      "\n",
      "            Adj Close  \n",
      "Date                   \n",
      "2006-10-31   2.356872  \n",
      "2006-11-30   2.608030  \n",
      "2006-12-31   2.642462  \n",
      "2007-01-31   2.716109  \n",
      "2007-02-28   2.619738  \n",
      "...               ...  \n",
      "2011-08-31  11.513399  \n",
      "2011-09-30  11.994111  \n",
      "2011-10-31  12.138857  \n",
      "2011-11-30  11.759478  \n",
      "2011-12-31  12.007470  \n",
      "\n",
      "[63 rows x 6 columns]\n"
     ]
    }
   ],
   "source": [
    "monthly_aapl = aapl.resample('M').mean()\n",
    "print(monthly_aapl)"
   ]
  },
  {
   "cell_type": "code",
   "execution_count": 19,
   "metadata": {},
   "outputs": [],
   "source": [
    "aapl['diff'] = aapl.Open - aapl.Close"
   ]
  },
  {
   "cell_type": "code",
   "execution_count": 21,
   "metadata": {},
   "outputs": [],
   "source": [
    "del aapl['diff']"
   ]
  },
  {
   "cell_type": "code",
   "execution_count": 23,
   "metadata": {},
   "outputs": [
    {
     "data": {
      "image/png": "[encoded data removed]",
      "text/plain": [
       "<Figure size 432x288 with 1 Axes>"
      ]
     },
     "metadata": {
      "needs_background": "light"
     },
     "output_type": "display_data"
    }
   ],
   "source": [
    "import matplotlib.pyplot as plt\n",
    "\n",
    "aapl['Close'].plot(grid=True)\n",
    "plt.show()"
   ]
  },
  {
   "cell_type": "code",
   "execution_count": null,
   "metadata": {},
   "outputs": [],
   "source": []
  }
 ],
 "metadata": {
  "kernelspec": {
   "display_name": "Python 3",
   "language": "python",
   "name": "python3"
  },
  "language_info": {
   "codemirror_mode": {
    "name": "ipython",
    "version": 3
   },
   "file_extension": ".py",
   "mimetype": "text/x-python",
   "name": "python",
   "nbconvert_exporter": "python",
   "pygments_lexer": "ipython3",
   "version": "3.7.7"
  }
 },
 "nbformat": 4,
 "nbformat_minor": 4
}
