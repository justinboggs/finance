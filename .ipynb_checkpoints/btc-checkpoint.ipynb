{
 "cells": [
  {
   "cell_type": "code",
   "execution_count": 2,
   "metadata": {},
   "outputs": [],
   "source": [
    "import investpy\n",
    "from datetime import datetime\n",
    "import pandas as pd\n",
    "from prompt_toolkit import prompt\n",
    "import csv\n",
    "import os\n",
    "import seaborn as sns\n",
    "import matplotlib.pyplot as plt"
   ]
  },
  {
   "cell_type": "code",
   "execution_count": 3,
   "metadata": {},
   "outputs": [
    {
     "name": "stdout",
     "output_type": "stream",
     "text": [
      "Start date (DD/MM/YYYY): 01/01/2020\n"
     ]
    }
   ],
   "source": [
    "from_date = input('Start date (DD/MM/YYYY): ')"
   ]
  },
  {
   "cell_type": "code",
   "execution_count": 4,
   "metadata": {},
   "outputs": [
    {
     "name": "stdout",
     "output_type": "stream",
     "text": [
      "End date (DD/MM/YYYY): 18/12/2020\n"
     ]
    }
   ],
   "source": [
    "to_date = input('End date (DD/MM/YYYY): ')"
   ]
  },
  {
   "cell_type": "code",
   "execution_count": 5,
   "metadata": {},
   "outputs": [
    {
     "name": "stdout",
     "output_type": "stream",
     "text": [
      "              Open    High     Low   Close  Volume Currency\n",
      "Date                                                       \n",
      "2020-01-01  7196.4  7259.4  7180.0  7199.8  420278      USD\n",
      "2020-01-02  7199.7  7209.6  6901.4  6967.0  632778      USD\n",
      "2020-01-03  6967.1  7402.9  6884.1  7343.1  936288      USD\n",
      "2020-01-04  7345.1  7433.1  7291.4  7376.8  523909      USD\n",
      "2020-01-05  7376.8  7501.0  7345.6  7372.5  628142      USD\n"
     ]
    }
   ],
   "source": [
    "btc = investpy.get_crypto_historical_data(crypto='bitcoin', from_date=from_date, to_date=to_date)\n",
    "print(btc.head())"
   ]
  },
  {
   "cell_type": "code",
   "execution_count": null,
   "metadata": {},
   "outputs": [],
   "source": []
  },
  {
   "cell_type": "code",
   "execution_count": null,
   "metadata": {},
   "outputs": [],
   "source": []
  },
  {
   "cell_type": "code",
   "execution_count": null,
   "metadata": {},
   "outputs": [],
   "source": []
  },
  {
   "cell_type": "code",
   "execution_count": null,
   "metadata": {},
   "outputs": [],
   "source": []
  },
  {
   "cell_type": "code",
   "execution_count": null,
   "metadata": {},
   "outputs": [],
   "source": []
  }
 ],
 "metadata": {
  "kernelspec": {
   "display_name": "Python 3",
   "language": "python",
   "name": "python3"
  },
  "language_info": {
   "codemirror_mode": {
    "name": "ipython",
    "version": 3
   },
   "file_extension": ".py",
   "mimetype": "text/x-python",
   "name": "python",
   "nbconvert_exporter": "python",
   "pygments_lexer": "ipython3",
   "version": "3.7.6"
  }
 },
 "nbformat": 4,
 "nbformat_minor": 4
}
