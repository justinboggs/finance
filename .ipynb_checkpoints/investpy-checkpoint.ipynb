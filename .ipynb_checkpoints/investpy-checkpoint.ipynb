{
 "cells": [
  {
   "cell_type": "code",
   "execution_count": 43,
   "metadata": {},
   "outputs": [],
   "source": [
    "import investpy\n",
    "from datetime import datetime\n",
    "import pandas as pd\n",
    "from prompt_toolkit import prompt\n",
    "import csv\n",
    "import os"
   ]
  },
  {
   "cell_type": "code",
   "execution_count": 44,
   "metadata": {},
   "outputs": [
    {
     "name": "stdout",
     "output_type": "stream",
     "text": [
      "Symbol: AAPL\n"
     ]
    }
   ],
   "source": [
    "stock = input('Symbol: ')"
   ]
  },
  {
   "cell_type": "code",
   "execution_count": 45,
   "metadata": {},
   "outputs": [
    {
     "name": "stdout",
     "output_type": "stream",
     "text": [
      "Start date (DD/MM/YYYY): 01/01/2020\n"
     ]
    }
   ],
   "source": [
    "from_date = input('Start date (DD/MM/YYYY): ')"
   ]
  },
  {
   "cell_type": "code",
   "execution_count": 46,
   "metadata": {},
   "outputs": [
    {
     "name": "stdout",
     "output_type": "stream",
     "text": [
      "End date (DD/MM/YYYY): 23/10/2020\n"
     ]
    }
   ],
   "source": [
    "to_date = input('End date (DD/MM/YYYY): ')"
   ]
  },
  {
   "cell_type": "code",
   "execution_count": 47,
   "metadata": {},
   "outputs": [
    {
     "name": "stdout",
     "output_type": "stream",
     "text": [
      "             Open   High    Low  Close     Volume Currency\n",
      "Date                                                      \n",
      "2020-01-02  74.06  75.15  73.80  75.09  135647456      USD\n",
      "2020-01-03  74.29  75.14  74.12  74.36  146535520      USD\n",
      "2020-01-06  73.45  74.99  73.19  74.95  118578576      USD\n",
      "2020-01-07  74.96  75.22  74.37  74.60  111510624      USD\n",
      "2020-01-08  74.29  76.11  74.29  75.80  132363784      USD\n"
     ]
    }
   ],
   "source": [
    "df = investpy.get_stock_historical_data(stock=stock, country='United States', from_date=from_date, \n",
    "     to_date=to_date)\n",
    "print(df.head())"
   ]
  },
  {
   "cell_type": "code",
   "execution_count": 48,
   "metadata": {},
   "outputs": [
    {
     "name": "stdout",
     "output_type": "stream",
     "text": [
      "Enter file name: AAPL\n"
     ]
    }
   ],
   "source": [
    "path = 'data/stocks'\n",
    "name = input(\"Enter file name: \") + '.csv'\n",
    "csvFileName = os.path.join(path,name)"
   ]
  },
  {
   "cell_type": "code",
   "execution_count": 49,
   "metadata": {},
   "outputs": [],
   "source": [
    "df.to_csv(csvFileName)"
   ]
  },
  {
   "cell_type": "code",
   "execution_count": null,
   "metadata": {},
   "outputs": [],
   "source": []
  }
 ],
 "metadata": {
  "kernelspec": {
   "display_name": "Python 3",
   "language": "python",
   "name": "python3"
  },
  "language_info": {
   "codemirror_mode": {
    "name": "ipython",
    "version": 3
   },
   "file_extension": ".py",
   "mimetype": "text/x-python",
   "name": "python",
   "nbconvert_exporter": "python",
   "pygments_lexer": "ipython3",
   "version": "3.7.7"
  }
 },
 "nbformat": 4,
 "nbformat_minor": 4
}
