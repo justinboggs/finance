{
 "cells": [
  {
   "cell_type": "code",
   "execution_count": 17,
   "metadata": {},
   "outputs": [],
   "source": [
    "import investpy\n",
    "from datetime import datetime\n",
    "import pandas as pd"
   ]
  },
  {
   "cell_type": "code",
   "execution_count": 18,
   "metadata": {},
   "outputs": [
    {
     "ename": "TypeError",
     "evalue": "strptime() argument 1 must be str, not Timestamp",
     "output_type": "error",
     "traceback": [
      "\u001b[1;31m---------------------------------------------------------------------------\u001b[0m",
      "\u001b[1;31mTypeError\u001b[0m                                 Traceback (most recent call last)",
      "\u001b[1;32m<ipython-input-18-381289f1f05a>\u001b[0m in \u001b[0;36m<module>\u001b[1;34m\u001b[0m\n\u001b[0;32m      1\u001b[0m df = investpy.get_stock_historical_data(stock='AAPL', country='United States', from_date='01/01/1900', \n\u001b[1;32m----> 2\u001b[1;33m      to_date=pd.to_datetime('now'))\n\u001b[0m\u001b[0;32m      3\u001b[0m \u001b[0mprint\u001b[0m\u001b[1;33m(\u001b[0m\u001b[0mdf\u001b[0m\u001b[1;33m.\u001b[0m\u001b[0mhead\u001b[0m\u001b[1;33m(\u001b[0m\u001b[1;33m)\u001b[0m\u001b[1;33m)\u001b[0m\u001b[1;33m\u001b[0m\u001b[1;33m\u001b[0m\u001b[0m\n",
      "\u001b[1;32m~\\Anaconda3\\lib\\site-packages\\investpy\\stocks.py\u001b[0m in \u001b[0;36mget_stock_historical_data\u001b[1;34m(stock, country, from_date, to_date, as_json, order, interval)\u001b[0m\n\u001b[0;32m    449\u001b[0m \u001b[1;33m\u001b[0m\u001b[0m\n\u001b[0;32m    450\u001b[0m     \u001b[1;32mtry\u001b[0m\u001b[1;33m:\u001b[0m\u001b[1;33m\u001b[0m\u001b[1;33m\u001b[0m\u001b[0m\n\u001b[1;32m--> 451\u001b[1;33m         \u001b[0mdatetime\u001b[0m\u001b[1;33m.\u001b[0m\u001b[0mstrptime\u001b[0m\u001b[1;33m(\u001b[0m\u001b[0mto_date\u001b[0m\u001b[1;33m,\u001b[0m \u001b[1;34m'%d/%m/%Y'\u001b[0m\u001b[1;33m)\u001b[0m\u001b[1;33m\u001b[0m\u001b[1;33m\u001b[0m\u001b[0m\n\u001b[0m\u001b[0;32m    452\u001b[0m     \u001b[1;32mexcept\u001b[0m \u001b[0mValueError\u001b[0m\u001b[1;33m:\u001b[0m\u001b[1;33m\u001b[0m\u001b[1;33m\u001b[0m\u001b[0m\n\u001b[0;32m    453\u001b[0m         \u001b[1;32mraise\u001b[0m \u001b[0mValueError\u001b[0m\u001b[1;33m(\u001b[0m\u001b[1;34m\"ERR#0012: incorrect to_date format, it should be 'dd/mm/yyyy'.\"\u001b[0m\u001b[1;33m)\u001b[0m\u001b[1;33m\u001b[0m\u001b[1;33m\u001b[0m\u001b[0m\n",
      "\u001b[1;31mTypeError\u001b[0m: strptime() argument 1 must be str, not Timestamp"
     ]
    }
   ],
   "source": [
    "df = investpy.get_stock_historical_data(stock='AAPL', country='United States', from_date='01/01/1900', \n",
    "     to_date=pd.to_datetime('now'))\n",
    "print(df.head())"
   ]
  },
  {
   "cell_type": "code",
   "execution_count": 9,
   "metadata": {},
   "outputs": [
    {
     "name": "stdout",
     "output_type": "stream",
     "text": [
      "            Open  High   Low  Close    Volume Currency\n",
      "Date                                                  \n",
      "2010-06-30  5.16  6.08  4.66   4.77  85971968      USD\n",
      "2010-07-01  5.00  5.18  4.05   4.39  41149316      USD\n",
      "2010-07-02  4.60  4.62  3.74   3.84  25709036      USD\n",
      "2010-07-06  4.00  4.00  3.17   3.22  34396480      USD\n",
      "2010-07-07  3.28  3.33  3.00   3.16  34624568      USD\n"
     ]
    }
   ],
   "source": [
    "df = investpy.get_stock_historical_data(stock='TSLA', country='United States', from_date='01/01/1900', \n",
    "                                        to_date='23/10/2020')\n",
    "print(df.head())"
   ]
  },
  {
   "cell_type": "code",
   "execution_count": 10,
   "metadata": {},
   "outputs": [
    {
     "name": "stdout",
     "output_type": "stream",
     "text": [
      "            Open  High   Low  Close    Volume Currency\n",
      "Date                                                  \n",
      "2010-06-30  5.16  6.08  4.66   4.77  85971968      USD\n",
      "2010-07-01  5.00  5.18  4.05   4.39  41149316      USD\n",
      "2010-07-02  4.60  4.62  3.74   3.84  25709036      USD\n",
      "2010-07-06  4.00  4.00  3.17   3.22  34396480      USD\n",
      "2010-07-07  3.28  3.33  3.00   3.16  34624568      USD\n"
     ]
    }
   ],
   "source": [
    "TSLA = investpy.get_stock_historical_data(stock='TSLA', country='United States', from_date='30/06/2010', \n",
    "                                          to_date='23/10/2020')\n",
    "print(TSLA.head())"
   ]
  },
  {
   "cell_type": "code",
   "execution_count": 11,
   "metadata": {},
   "outputs": [],
   "source": [
    "TSLA.to_csv('data/TSLA.csv')"
   ]
  },
  {
   "cell_type": "code",
   "execution_count": 12,
   "metadata": {
    "scrolled": false
   },
   "outputs": [
    {
     "name": "stdout",
     "output_type": "stream",
     "text": [
      "            Open  High   Low  Close    Volume Currency\n",
      "Date                                                  \n",
      "2010-06-30  5.16  6.08  4.66   4.77  85971968      USD\n",
      "2010-07-01  5.00  5.18  4.05   4.39  41149316      USD\n",
      "2010-07-02  4.60  4.62  3.74   3.84  25709036      USD\n",
      "2010-07-06  4.00  4.00  3.17   3.22  34396480      USD\n",
      "2010-07-07  3.28  3.33  3.00   3.16  34624568      USD\n"
     ]
    }
   ],
   "source": [
    "AAPL = investpy.get_stock_historical_data(stock='AAPL', country='United States', from_date='12/12/1980',\n",
    "                                          to_date='23/10/2020')\n",
    "print(df.head())"
   ]
  },
  {
   "cell_type": "code",
   "execution_count": 13,
   "metadata": {},
   "outputs": [],
   "source": [
    "AAPL.to_csv('data/AAPL.csv')"
   ]
  },
  {
   "cell_type": "code",
   "execution_count": null,
   "metadata": {},
   "outputs": [],
   "source": []
  }
 ],
 "metadata": {
  "kernelspec": {
   "display_name": "Python 3",
   "language": "python",
   "name": "python3"
  },
  "language_info": {
   "codemirror_mode": {
    "name": "ipython",
    "version": 3
   },
   "file_extension": ".py",
   "mimetype": "text/x-python",
   "name": "python",
   "nbconvert_exporter": "python",
   "pygments_lexer": "ipython3",
   "version": "3.7.7"
  }
 },
 "nbformat": 4,
 "nbformat_minor": 4
}
