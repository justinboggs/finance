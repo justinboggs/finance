{
 "cells": [
  {
   "cell_type": "code",
   "execution_count": 3,
   "metadata": {},
   "outputs": [],
   "source": [
    "import investpy\n",
    "from datetime import datetime\n",
    "import pandas as pd\n",
    "from prompt_toolkit import prompt\n",
    "import csv\n",
    "import os\n",
    "import seaborn as sns\n",
    "import matplotlib.pyplot as plt"
   ]
  },
  {
   "cell_type": "code",
   "execution_count": 4,
   "metadata": {},
   "outputs": [
    {
     "name": "stdout",
     "output_type": "stream",
     "text": [
      "Symbol: OHI\n"
     ]
    }
   ],
   "source": [
    "stock = input('Symbol: ')"
   ]
  },
  {
   "cell_type": "code",
   "execution_count": 5,
   "metadata": {},
   "outputs": [
    {
     "name": "stdout",
     "output_type": "stream",
     "text": [
      "Start date (DD/MM/YYYY): 01/01/2020\n"
     ]
    }
   ],
   "source": [
    "from_date = input('Start date (DD/MM/YYYY): ')"
   ]
  },
  {
   "cell_type": "code",
   "execution_count": 6,
   "metadata": {},
   "outputs": [
    {
     "name": "stdout",
     "output_type": "stream",
     "text": [
      "End date (DD/MM/YYYY): 23/10/2020\n"
     ]
    }
   ],
   "source": [
    "to_date = input('End date (DD/MM/YYYY): ')"
   ]
  },
  {
   "cell_type": "code",
   "execution_count": 7,
   "metadata": {},
   "outputs": [
    {
     "name": "stdout",
     "output_type": "stream",
     "text": [
      "             Open   High    Low  Close   Volume Currency\n",
      "Date                                                    \n",
      "2020-01-02  42.58  42.64  41.20  41.67  1350178      USD\n",
      "2020-01-03  41.50  42.22  41.41  42.09   950043      USD\n",
      "2020-01-06  42.00  42.42  41.85  42.12  1922889      USD\n",
      "2020-01-07  42.06  42.12  41.39  41.69  1169262      USD\n",
      "2020-01-08  41.69  41.90  41.48  41.74  2156154      USD\n"
     ]
    }
   ],
   "source": [
    "df = investpy.get_stock_historical_data(stock=stock, country='United States', from_date=from_date, \n",
    "     to_date=to_date)\n",
    "print(df.head())"
   ]
  },
  {
   "cell_type": "code",
   "execution_count": 8,
   "metadata": {},
   "outputs": [
    {
     "name": "stdout",
     "output_type": "stream",
     "text": [
      "        Date   Open   High    Low  Close   Volume Currency\n",
      "0 2020-01-02  42.58  42.64  41.20  41.67  1350178      USD\n",
      "1 2020-01-03  41.50  42.22  41.41  42.09   950043      USD\n",
      "2 2020-01-06  42.00  42.42  41.85  42.12  1922889      USD\n",
      "3 2020-01-07  42.06  42.12  41.39  41.69  1169262      USD\n",
      "4 2020-01-08  41.69  41.90  41.48  41.74  2156154      USD\n"
     ]
    }
   ],
   "source": [
    "df.reset_index(inplace = True)\n",
    "print(df.head())"
   ]
  },
  {
   "cell_type": "code",
   "execution_count": 9,
   "metadata": {},
   "outputs": [
    {
     "name": "stdout",
     "output_type": "stream",
     "text": [
      "Enter file name: OHI\n"
     ]
    }
   ],
   "source": [
    "csvPath = 'data/stocks'\n",
    "csvName = input(\"Enter file name: \") + '.csv'\n",
    "csvFileName = os.path.join(csvPath, csvName)"
   ]
  },
  {
   "cell_type": "code",
   "execution_count": 10,
   "metadata": {},
   "outputs": [],
   "source": [
    "df.to_csv(csvFileName)"
   ]
  },
  {
   "cell_type": "code",
   "execution_count": 14,
   "metadata": {
    "scrolled": false
   },
   "outputs": [
    {
     "data": {
      "image/png": "[encoded data removed]",
      "text/plain": [
       "<Figure size 432x288 with 1 Axes>"
      ]
     },
     "metadata": {
      "needs_background": "light"
     },
     "output_type": "display_data"
    }
   ],
   "source": [
    "graph = sns.lineplot(data=df, x=\"Date\", y=\"Close\")\n",
    "plt.xticks(rotation=45)\n",
    "plt.title(stock)\n",
    "plt.tight_layout()"
   ]
  },
  {
   "cell_type": "code",
   "execution_count": 15,
   "metadata": {},
   "outputs": [
    {
     "name": "stdout",
     "output_type": "stream",
     "text": [
      "Enter graph name: OHI\n"
     ]
    }
   ],
   "source": [
    "graphPath = 'data/stocks'\n",
    "graphName = input('Enter graph name: ') + '.png'\n",
    "graphFileName = os.path.join(graphPath, graphName)"
   ]
  },
  {
   "cell_type": "code",
   "execution_count": 16,
   "metadata": {},
   "outputs": [],
   "source": [
    "graph.figure.savefig(graphFileName)"
   ]
  },
  {
   "cell_type": "code",
   "execution_count": null,
   "metadata": {},
   "outputs": [],
   "source": []
  }
 ],
 "metadata": {
  "kernelspec": {
   "display_name": "Python 3",
   "language": "python",
   "name": "python3"
  },
  "language_info": {
   "codemirror_mode": {
    "name": "ipython",
    "version": 3
   },
   "file_extension": ".py",
   "mimetype": "text/x-python",
   "name": "python",
   "nbconvert_exporter": "python",
   "pygments_lexer": "ipython3",
   "version": "3.7.7"
  }
 },
 "nbformat": 4,
 "nbformat_minor": 4
}
