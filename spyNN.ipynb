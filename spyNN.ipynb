{
 "cells": [
  {
   "cell_type": "code",
   "execution_count": 9,
   "metadata": {},
   "outputs": [],
   "source": [
    "import numpy as np\n",
    "import matplotlib.pyplot as plt\n",
    "import pandas as pd\n",
    "from datetime import timedelta\n",
    "from sklearn.preprocessing import RobustScaler\n",
    "plt.style.use('bmh')\n",
    " \n",
    "import ta\n",
    "\n",
    "from keras.models import Sequential\n",
    "from keras.layers import LSTM, Dense, Dropout\n",
    "\n",
    "df = pd.read_csv('data/SPY5yr.csv')"
   ]
  },
  {
   "cell_type": "code",
   "execution_count": 10,
   "metadata": {},
   "outputs": [
    {
     "data": {
      "text/html": [
       "<div>\n",
       "<style scoped>\n",
       "    .dataframe tbody tr th:only-of-type {\n",
       "        vertical-align: middle;\n",
       "    }\n",
       "\n",
       "    .dataframe tbody tr th {\n",
       "        vertical-align: top;\n",
       "    }\n",
       "\n",
       "    .dataframe thead th {\n",
       "        text-align: right;\n",
       "    }\n",
       "</style>\n",
       "<table border=\"1\" class=\"dataframe\">\n",
       "  <thead>\n",
       "    <tr style=\"text-align: right;\">\n",
       "      <th></th>\n",
       "      <th>Date</th>\n",
       "      <th>Open</th>\n",
       "      <th>High</th>\n",
       "      <th>Low</th>\n",
       "      <th>Close</th>\n",
       "      <th>Adj Close</th>\n",
       "      <th>Volume</th>\n",
       "    </tr>\n",
       "  </thead>\n",
       "  <tbody>\n",
       "    <tr>\n",
       "      <th>0</th>\n",
       "      <td>2015-11-25</td>\n",
       "      <td>209.500000</td>\n",
       "      <td>209.740005</td>\n",
       "      <td>209.009995</td>\n",
       "      <td>209.320007</td>\n",
       "      <td>189.730499</td>\n",
       "      <td>51980100</td>\n",
       "    </tr>\n",
       "    <tr>\n",
       "      <th>1</th>\n",
       "      <td>2015-11-27</td>\n",
       "      <td>209.429993</td>\n",
       "      <td>209.800003</td>\n",
       "      <td>208.860001</td>\n",
       "      <td>209.559998</td>\n",
       "      <td>189.948029</td>\n",
       "      <td>37317800</td>\n",
       "    </tr>\n",
       "    <tr>\n",
       "      <th>2</th>\n",
       "      <td>2015-11-30</td>\n",
       "      <td>209.750000</td>\n",
       "      <td>209.889999</td>\n",
       "      <td>208.559998</td>\n",
       "      <td>208.690002</td>\n",
       "      <td>189.159454</td>\n",
       "      <td>112822700</td>\n",
       "    </tr>\n",
       "    <tr>\n",
       "      <th>3</th>\n",
       "      <td>2015-12-01</td>\n",
       "      <td>209.440002</td>\n",
       "      <td>210.820007</td>\n",
       "      <td>209.110001</td>\n",
       "      <td>210.679993</td>\n",
       "      <td>190.963196</td>\n",
       "      <td>97858400</td>\n",
       "    </tr>\n",
       "    <tr>\n",
       "      <th>4</th>\n",
       "      <td>2015-12-02</td>\n",
       "      <td>210.619995</td>\n",
       "      <td>211.000000</td>\n",
       "      <td>208.229996</td>\n",
       "      <td>208.529999</td>\n",
       "      <td>189.014420</td>\n",
       "      <td>108441300</td>\n",
       "    </tr>\n",
       "  </tbody>\n",
       "</table>\n",
       "</div>"
      ],
      "text/plain": [
       "         Date        Open        High         Low       Close   Adj Close  \\\n",
       "0  2015-11-25  209.500000  209.740005  209.009995  209.320007  189.730499   \n",
       "1  2015-11-27  209.429993  209.800003  208.860001  209.559998  189.948029   \n",
       "2  2015-11-30  209.750000  209.889999  208.559998  208.690002  189.159454   \n",
       "3  2015-12-01  209.440002  210.820007  209.110001  210.679993  190.963196   \n",
       "4  2015-12-02  210.619995  211.000000  208.229996  208.529999  189.014420   \n",
       "\n",
       "      Volume  \n",
       "0   51980100  \n",
       "1   37317800  \n",
       "2  112822700  \n",
       "3   97858400  \n",
       "4  108441300  "
      ]
     },
     "execution_count": 10,
     "metadata": {},
     "output_type": "execute_result"
    }
   ],
   "source": [
    "df.head()"
   ]
  },
  {
   "cell_type": "code",
   "execution_count": 11,
   "metadata": {},
   "outputs": [
    {
     "name": "stderr",
     "output_type": "stream",
     "text": [
      "C:\\Users\\jbogg\\anaconda3\\lib\\site-packages\\ta\\trend.py:643: RuntimeWarning: invalid value encountered in double_scalars\n",
      "  dip[i] = 100 * (self._dip[i]/self._trs[i])\n",
      "C:\\Users\\jbogg\\anaconda3\\lib\\site-packages\\ta\\trend.py:647: RuntimeWarning: invalid value encountered in double_scalars\n",
      "  din[i] = 100 * (self._din[i]/self._trs[i])\n"
     ]
    }
   ],
   "source": [
    "## Datetime conversion\n",
    "df['Date'] = pd.to_datetime(df.Date)\n",
    "\n",
    "# Setting the index\n",
    "df.set_index('Date', inplace=True)\n",
    "\n",
    "# Dropping any NaNs\n",
    "df.dropna(inplace=True)\n",
    "\n",
    "\n",
    "\n",
    "## Technical Indicators\n",
    "\n",
    "# Adding all the indicators\n",
    "df = ta.add_all_ta_features(df, open=\"Open\", high=\"High\", low=\"Low\", close=\"Close\", volume=\"Volume\", fillna=True)\n",
    "\n",
    "# Dropping everything else besides 'Close' and the Indicators\n",
    "df.drop(['Open', 'High', 'Low', 'Adj Close', 'Volume'], axis=1, inplace=True)\n",
    "\n",
    "# Only using the last 1000 days of data to get a more accurate representation of the current market climate\n",
    "df = df.tail(1000)\n",
    "\n",
    "\n",
    "\n",
    "## Scaling\n",
    "\n",
    "# Scale fitting the close prices separately for inverse_transformations purposes later\n",
    "close_scaler = RobustScaler()\n",
    "\n",
    "close_scaler.fit(df[['Close']])\n",
    "\n",
    "# Normalizing/Scaling the DF\n",
    "scaler = RobustScaler()\n",
    "\n",
    "df = pd.DataFrame(scaler.fit_transform(df), columns=df.columns, index=df.index)"
   ]
  },
  {
   "cell_type": "code",
   "execution_count": null,
   "metadata": {},
   "outputs": [],
   "source": []
  },
  {
   "cell_type": "code",
   "execution_count": null,
   "metadata": {},
   "outputs": [],
   "source": []
  }
 ],
 "metadata": {
  "kernelspec": {
   "display_name": "Python 3",
   "language": "python",
   "name": "python3"
  },
  "language_info": {
   "codemirror_mode": {
    "name": "ipython",
    "version": 3
   },
   "file_extension": ".py",
   "mimetype": "text/x-python",
   "name": "python",
   "nbconvert_exporter": "python",
   "pygments_lexer": "ipython3",
   "version": "3.7.6"
  }
 },
 "nbformat": 4,
 "nbformat_minor": 4
}
