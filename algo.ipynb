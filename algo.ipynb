{
 "cells": [
  {
   "cell_type": "code",
   "execution_count": 3,
   "metadata": {},
   "outputs": [],
   "source": [
    "import pandas_datareader as pdr\n",
    "import datetime\n",
    "import pandas as pd"
   ]
  },
  {
   "cell_type": "code",
   "execution_count": 4,
   "metadata": {},
   "outputs": [],
   "source": [
    "aapl = pdr.get_data_yahoo('AAPL', start=datetime.datetime(2006, 10, 1), end=datetime.datetime(2012, 1, 1))"
   ]
  },
  {
   "cell_type": "code",
   "execution_count": 5,
   "metadata": {},
   "outputs": [],
   "source": [
    "import quandl"
   ]
  },
  {
   "cell_type": "code",
   "execution_count": 6,
   "metadata": {},
   "outputs": [],
   "source": [
    "aaplq = quandl.get('WIKI/AAPL', start_date='2006-10-01', end_date='2012-01-01')"
   ]
  },
  {
   "cell_type": "code",
   "execution_count": 7,
   "metadata": {},
   "outputs": [
    {
     "data": {
      "text/html": [
       "<div>\n",
       "<style scoped>\n",
       "    .dataframe tbody tr th:only-of-type {\n",
       "        vertical-align: middle;\n",
       "    }\n",
       "\n",
       "    .dataframe tbody tr th {\n",
       "        vertical-align: top;\n",
       "    }\n",
       "\n",
       "    .dataframe thead th {\n",
       "        text-align: right;\n",
       "    }\n",
       "</style>\n",
       "<table border=\"1\" class=\"dataframe\">\n",
       "  <thead>\n",
       "    <tr style=\"text-align: right;\">\n",
       "      <th></th>\n",
       "      <th>High</th>\n",
       "      <th>Low</th>\n",
       "      <th>Open</th>\n",
       "      <th>Close</th>\n",
       "      <th>Volume</th>\n",
       "      <th>Adj Close</th>\n",
       "    </tr>\n",
       "    <tr>\n",
       "      <th>Date</th>\n",
       "      <th></th>\n",
       "      <th></th>\n",
       "      <th></th>\n",
       "      <th></th>\n",
       "      <th></th>\n",
       "      <th></th>\n",
       "    </tr>\n",
       "  </thead>\n",
       "  <tbody>\n",
       "    <tr>\n",
       "      <th>2006-10-02</th>\n",
       "      <td>2.709643</td>\n",
       "      <td>2.653571</td>\n",
       "      <td>2.682143</td>\n",
       "      <td>2.673571</td>\n",
       "      <td>712639200</td>\n",
       "      <td>2.287629</td>\n",
       "    </tr>\n",
       "    <tr>\n",
       "      <th>2006-10-03</th>\n",
       "      <td>2.676786</td>\n",
       "      <td>2.613929</td>\n",
       "      <td>2.658929</td>\n",
       "      <td>2.645714</td>\n",
       "      <td>790708800</td>\n",
       "      <td>2.263793</td>\n",
       "    </tr>\n",
       "    <tr>\n",
       "      <th>2006-10-04</th>\n",
       "      <td>2.695000</td>\n",
       "      <td>2.612857</td>\n",
       "      <td>2.646429</td>\n",
       "      <td>2.692143</td>\n",
       "      <td>829082800</td>\n",
       "      <td>2.303519</td>\n",
       "    </tr>\n",
       "    <tr>\n",
       "      <th>2006-10-05</th>\n",
       "      <td>2.720000</td>\n",
       "      <td>2.647500</td>\n",
       "      <td>2.661786</td>\n",
       "      <td>2.672500</td>\n",
       "      <td>683883200</td>\n",
       "      <td>2.286713</td>\n",
       "    </tr>\n",
       "    <tr>\n",
       "      <th>2006-10-06</th>\n",
       "      <td>2.680000</td>\n",
       "      <td>2.636071</td>\n",
       "      <td>2.657857</td>\n",
       "      <td>2.650714</td>\n",
       "      <td>466958800</td>\n",
       "      <td>2.268071</td>\n",
       "    </tr>\n",
       "  </tbody>\n",
       "</table>\n",
       "</div>"
      ],
      "text/plain": [
       "                High       Low      Open     Close     Volume  Adj Close\n",
       "Date                                                                    \n",
       "2006-10-02  2.709643  2.653571  2.682143  2.673571  712639200   2.287629\n",
       "2006-10-03  2.676786  2.613929  2.658929  2.645714  790708800   2.263793\n",
       "2006-10-04  2.695000  2.612857  2.646429  2.692143  829082800   2.303519\n",
       "2006-10-05  2.720000  2.647500  2.661786  2.672500  683883200   2.286713\n",
       "2006-10-06  2.680000  2.636071  2.657857  2.650714  466958800   2.268071"
      ]
     },
     "execution_count": 7,
     "metadata": {},
     "output_type": "execute_result"
    }
   ],
   "source": [
    "aapl.head()"
   ]
  },
  {
   "cell_type": "code",
   "execution_count": 8,
   "metadata": {},
   "outputs": [
    {
     "data": {
      "text/html": [
       "<div>\n",
       "<style scoped>\n",
       "    .dataframe tbody tr th:only-of-type {\n",
       "        vertical-align: middle;\n",
       "    }\n",
       "\n",
       "    .dataframe tbody tr th {\n",
       "        vertical-align: top;\n",
       "    }\n",
       "\n",
       "    .dataframe thead th {\n",
       "        text-align: right;\n",
       "    }\n",
       "</style>\n",
       "<table border=\"1\" class=\"dataframe\">\n",
       "  <thead>\n",
       "    <tr style=\"text-align: right;\">\n",
       "      <th></th>\n",
       "      <th>Open</th>\n",
       "      <th>High</th>\n",
       "      <th>Low</th>\n",
       "      <th>Close</th>\n",
       "      <th>Volume</th>\n",
       "      <th>Ex-Dividend</th>\n",
       "      <th>Split Ratio</th>\n",
       "      <th>Adj. Open</th>\n",
       "      <th>Adj. High</th>\n",
       "      <th>Adj. Low</th>\n",
       "      <th>Adj. Close</th>\n",
       "      <th>Adj. Volume</th>\n",
       "    </tr>\n",
       "    <tr>\n",
       "      <th>Date</th>\n",
       "      <th></th>\n",
       "      <th></th>\n",
       "      <th></th>\n",
       "      <th></th>\n",
       "      <th></th>\n",
       "      <th></th>\n",
       "      <th></th>\n",
       "      <th></th>\n",
       "      <th></th>\n",
       "      <th></th>\n",
       "      <th></th>\n",
       "      <th></th>\n",
       "    </tr>\n",
       "  </thead>\n",
       "  <tbody>\n",
       "    <tr>\n",
       "      <th>2006-10-02</th>\n",
       "      <td>75.10</td>\n",
       "      <td>75.870</td>\n",
       "      <td>74.30</td>\n",
       "      <td>74.86</td>\n",
       "      <td>25451400.0</td>\n",
       "      <td>0.0</td>\n",
       "      <td>1.0</td>\n",
       "      <td>9.651397</td>\n",
       "      <td>9.750352</td>\n",
       "      <td>9.548586</td>\n",
       "      <td>9.620553</td>\n",
       "      <td>178159800.0</td>\n",
       "    </tr>\n",
       "    <tr>\n",
       "      <th>2006-10-03</th>\n",
       "      <td>74.45</td>\n",
       "      <td>74.950</td>\n",
       "      <td>73.19</td>\n",
       "      <td>74.07</td>\n",
       "      <td>28239600.0</td>\n",
       "      <td>0.0</td>\n",
       "      <td>1.0</td>\n",
       "      <td>9.567863</td>\n",
       "      <td>9.632120</td>\n",
       "      <td>9.405935</td>\n",
       "      <td>9.519027</td>\n",
       "      <td>197677200.0</td>\n",
       "    </tr>\n",
       "    <tr>\n",
       "      <th>2006-10-04</th>\n",
       "      <td>74.10</td>\n",
       "      <td>75.462</td>\n",
       "      <td>73.16</td>\n",
       "      <td>75.38</td>\n",
       "      <td>29610100.0</td>\n",
       "      <td>0.0</td>\n",
       "      <td>1.0</td>\n",
       "      <td>9.522883</td>\n",
       "      <td>9.697919</td>\n",
       "      <td>9.402080</td>\n",
       "      <td>9.687381</td>\n",
       "      <td>207270700.0</td>\n",
       "    </tr>\n",
       "    <tr>\n",
       "      <th>2006-10-05</th>\n",
       "      <td>74.53</td>\n",
       "      <td>76.160</td>\n",
       "      <td>74.13</td>\n",
       "      <td>74.83</td>\n",
       "      <td>24424400.0</td>\n",
       "      <td>0.0</td>\n",
       "      <td>1.0</td>\n",
       "      <td>9.578144</td>\n",
       "      <td>9.787621</td>\n",
       "      <td>9.526738</td>\n",
       "      <td>9.616698</td>\n",
       "      <td>170970800.0</td>\n",
       "    </tr>\n",
       "    <tr>\n",
       "      <th>2006-10-06</th>\n",
       "      <td>74.42</td>\n",
       "      <td>75.040</td>\n",
       "      <td>73.81</td>\n",
       "      <td>74.22</td>\n",
       "      <td>16677100.0</td>\n",
       "      <td>0.0</td>\n",
       "      <td>1.0</td>\n",
       "      <td>9.564007</td>\n",
       "      <td>9.643686</td>\n",
       "      <td>9.485614</td>\n",
       "      <td>9.538304</td>\n",
       "      <td>116739700.0</td>\n",
       "    </tr>\n",
       "  </tbody>\n",
       "</table>\n",
       "</div>"
      ],
      "text/plain": [
       "             Open    High    Low  Close      Volume  Ex-Dividend  Split Ratio  \\\n",
       "Date                                                                            \n",
       "2006-10-02  75.10  75.870  74.30  74.86  25451400.0          0.0          1.0   \n",
       "2006-10-03  74.45  74.950  73.19  74.07  28239600.0          0.0          1.0   \n",
       "2006-10-04  74.10  75.462  73.16  75.38  29610100.0          0.0          1.0   \n",
       "2006-10-05  74.53  76.160  74.13  74.83  24424400.0          0.0          1.0   \n",
       "2006-10-06  74.42  75.040  73.81  74.22  16677100.0          0.0          1.0   \n",
       "\n",
       "            Adj. Open  Adj. High  Adj. Low  Adj. Close  Adj. Volume  \n",
       "Date                                                                 \n",
       "2006-10-02   9.651397   9.750352  9.548586    9.620553  178159800.0  \n",
       "2006-10-03   9.567863   9.632120  9.405935    9.519027  197677200.0  \n",
       "2006-10-04   9.522883   9.697919  9.402080    9.687381  207270700.0  \n",
       "2006-10-05   9.578144   9.787621  9.526738    9.616698  170970800.0  \n",
       "2006-10-06   9.564007   9.643686  9.485614    9.538304  116739700.0  "
      ]
     },
     "execution_count": 8,
     "metadata": {},
     "output_type": "execute_result"
    }
   ],
   "source": [
    "aaplq.head()"
   ]
  },
  {
   "cell_type": "code",
   "execution_count": 9,
   "metadata": {},
   "outputs": [],
   "source": [
    "aapl.to_csv('data/algo_test.csv')"
   ]
  },
  {
   "cell_type": "code",
   "execution_count": 10,
   "metadata": {},
   "outputs": [],
   "source": [
    "df = pd.read_csv('data/algo_test.csv', header=0, index_col='Date', parse_dates=True)"
   ]
  },
  {
   "cell_type": "code",
   "execution_count": 11,
   "metadata": {},
   "outputs": [
    {
     "data": {
      "text/html": [
       "<div>\n",
       "<style scoped>\n",
       "    .dataframe tbody tr th:only-of-type {\n",
       "        vertical-align: middle;\n",
       "    }\n",
       "\n",
       "    .dataframe tbody tr th {\n",
       "        vertical-align: top;\n",
       "    }\n",
       "\n",
       "    .dataframe thead th {\n",
       "        text-align: right;\n",
       "    }\n",
       "</style>\n",
       "<table border=\"1\" class=\"dataframe\">\n",
       "  <thead>\n",
       "    <tr style=\"text-align: right;\">\n",
       "      <th></th>\n",
       "      <th>High</th>\n",
       "      <th>Low</th>\n",
       "      <th>Open</th>\n",
       "      <th>Close</th>\n",
       "      <th>Volume</th>\n",
       "      <th>Adj Close</th>\n",
       "    </tr>\n",
       "    <tr>\n",
       "      <th>Date</th>\n",
       "      <th></th>\n",
       "      <th></th>\n",
       "      <th></th>\n",
       "      <th></th>\n",
       "      <th></th>\n",
       "      <th></th>\n",
       "    </tr>\n",
       "  </thead>\n",
       "  <tbody>\n",
       "    <tr>\n",
       "      <th>2006-10-02</th>\n",
       "      <td>2.709643</td>\n",
       "      <td>2.653571</td>\n",
       "      <td>2.682143</td>\n",
       "      <td>2.673571</td>\n",
       "      <td>712639200</td>\n",
       "      <td>2.287629</td>\n",
       "    </tr>\n",
       "    <tr>\n",
       "      <th>2006-10-03</th>\n",
       "      <td>2.676786</td>\n",
       "      <td>2.613929</td>\n",
       "      <td>2.658929</td>\n",
       "      <td>2.645714</td>\n",
       "      <td>790708800</td>\n",
       "      <td>2.263793</td>\n",
       "    </tr>\n",
       "    <tr>\n",
       "      <th>2006-10-04</th>\n",
       "      <td>2.695000</td>\n",
       "      <td>2.612857</td>\n",
       "      <td>2.646429</td>\n",
       "      <td>2.692143</td>\n",
       "      <td>829082800</td>\n",
       "      <td>2.303519</td>\n",
       "    </tr>\n",
       "    <tr>\n",
       "      <th>2006-10-05</th>\n",
       "      <td>2.720000</td>\n",
       "      <td>2.647500</td>\n",
       "      <td>2.661786</td>\n",
       "      <td>2.672500</td>\n",
       "      <td>683883200</td>\n",
       "      <td>2.286713</td>\n",
       "    </tr>\n",
       "    <tr>\n",
       "      <th>2006-10-06</th>\n",
       "      <td>2.680000</td>\n",
       "      <td>2.636071</td>\n",
       "      <td>2.657857</td>\n",
       "      <td>2.650714</td>\n",
       "      <td>466958800</td>\n",
       "      <td>2.268071</td>\n",
       "    </tr>\n",
       "  </tbody>\n",
       "</table>\n",
       "</div>"
      ],
      "text/plain": [
       "                High       Low      Open     Close     Volume  Adj Close\n",
       "Date                                                                    \n",
       "2006-10-02  2.709643  2.653571  2.682143  2.673571  712639200   2.287629\n",
       "2006-10-03  2.676786  2.613929  2.658929  2.645714  790708800   2.263793\n",
       "2006-10-04  2.695000  2.612857  2.646429  2.692143  829082800   2.303519\n",
       "2006-10-05  2.720000  2.647500  2.661786  2.672500  683883200   2.286713\n",
       "2006-10-06  2.680000  2.636071  2.657857  2.650714  466958800   2.268071"
      ]
     },
     "execution_count": 11,
     "metadata": {},
     "output_type": "execute_result"
    }
   ],
   "source": [
    "df.head()"
   ]
  },
  {
   "cell_type": "code",
   "execution_count": 12,
   "metadata": {},
   "outputs": [
    {
     "name": "stdout",
     "output_type": "stream",
     "text": [
      "                 High        Low       Open      Close      Volume  Adj Close\n",
      "Date                                                                         \n",
      "2010-02-24   7.194286   7.065714   7.079643   7.166429   460566400   6.131923\n",
      "2007-07-11   4.775000   4.689643   4.716786   4.728214   821772000   4.045674\n",
      "2010-12-31  11.552857  11.475357  11.533929  11.520000   193508000   9.857034\n",
      "2011-07-26  14.446428  14.274285  14.285714  14.407500   476582400  12.327711\n",
      "2008-08-04   5.639286   5.461071   5.592857   5.472500   592527600   4.682519\n",
      "2008-05-22   6.476071   6.142857   6.402143   6.323214  1206735600   5.410429\n",
      "2008-12-24   3.080357   3.019643   3.076429   3.037143   271334000   2.598717\n",
      "2009-10-30   7.028572   6.720357   7.002143   6.732143   717525200   5.760328\n",
      "2010-02-10   7.021429   6.937857   6.996071   6.968572   370361600   5.962626\n",
      "2007-01-19   3.201786   3.147143   3.165357   3.160714  1364473600   2.704451\n",
      "2010-12-07  11.571072  11.361428  11.564285  11.364643   391454000   9.724105\n",
      "2006-11-29   3.326786   3.223214   3.321429   3.278571  1157083200   2.805295\n",
      "2010-12-08  11.465000  11.325357  11.415358  11.464643   321935600   9.809668\n",
      "2010-04-05   8.518214   8.384643   8.392143   8.517500   684507600   7.287958\n",
      "2008-08-12   6.403214   6.196786   6.197143   6.311786   836278800   5.400651\n",
      "2008-11-28   3.384286   3.280714   3.382143   3.309643   297774400   2.831881\n",
      "2010-12-28  11.666429  11.609285  11.639643  11.623929   175924000   9.945959\n",
      "2008-02-07   4.456429   4.188214   4.284643   4.330000  2083331600   3.704944\n",
      "2007-02-02   3.044643   2.989286   3.004286   3.026786   621530000   2.589855\n",
      "2009-10-12   6.839643   6.772857   6.822143   6.814643   288024800   5.830919\n"
     ]
    }
   ],
   "source": [
    "sample = aapl.sample(20)\n",
    "print(sample)"
   ]
  },
  {
   "cell_type": "code",
   "execution_count": 13,
   "metadata": {},
   "outputs": [
    {
     "name": "stdout",
     "output_type": "stream",
     "text": [
      "                 High        Low       Open      Close        Volume  \\\n",
      "Date                                                                   \n",
      "2006-10-31   2.780942   2.723279   2.750731   2.754497  6.539980e+08   \n",
      "2006-11-30   3.078656   3.007245   3.040391   3.048027  6.588040e+08   \n",
      "2006-12-31   3.136625   3.051393   3.103964   3.088268  8.445396e+08   \n",
      "2007-01-31   3.220214   3.130643   3.180589   3.174339  1.360489e+09   \n",
      "2007-02-28   3.095733   3.027951   3.063026   3.061711  7.222292e+08   \n",
      "...               ...        ...        ...        ...           ...   \n",
      "2011-08-31  13.637500  13.255326  13.473587  13.455807  7.018521e+08   \n",
      "2011-09-30  14.186480  13.859524  14.013554  14.017619  5.703547e+08   \n",
      "2011-10-31  14.350595  13.983061  14.169422  14.186786  6.257823e+08   \n",
      "2011-11-30  13.888554  13.631650  13.795289  13.743401  4.268429e+08   \n",
      "2011-12-31  14.130884  13.933554  14.027517  14.033231  3.003111e+08   \n",
      "\n",
      "            Adj Close  \n",
      "Date                   \n",
      "2006-10-31   2.356872  \n",
      "2006-11-30   2.608030  \n",
      "2006-12-31   2.642462  \n",
      "2007-01-31   2.716109  \n",
      "2007-02-28   2.619738  \n",
      "...               ...  \n",
      "2011-08-31  11.513399  \n",
      "2011-09-30  11.994111  \n",
      "2011-10-31  12.138857  \n",
      "2011-11-30  11.759478  \n",
      "2011-12-31  12.007470  \n",
      "\n",
      "[63 rows x 6 columns]\n"
     ]
    }
   ],
   "source": [
    "monthly_aapl = aapl.resample('M').mean()\n",
    "print(monthly_aapl)"
   ]
  },
  {
   "cell_type": "code",
   "execution_count": 14,
   "metadata": {},
   "outputs": [],
   "source": [
    "aapl['diff'] = aapl.Open - aapl.Close"
   ]
  },
  {
   "cell_type": "code",
   "execution_count": 15,
   "metadata": {},
   "outputs": [],
   "source": [
    "del aapl['diff']"
   ]
  },
  {
   "cell_type": "code",
   "execution_count": 16,
   "metadata": {},
   "outputs": [
    {
     "data": {
      "image/png": "[encoded data removed]",
      "text/plain": [
       "<Figure size 432x288 with 1 Axes>"
      ]
     },
     "metadata": {
      "needs_background": "light"
     },
     "output_type": "display_data"
    }
   ],
   "source": [
    "import matplotlib.pyplot as plt\n",
    "\n",
    "aapl['Close'].plot(grid=True)\n",
    "plt.show()"
   ]
  },
  {
   "cell_type": "code",
   "execution_count": 17,
   "metadata": {},
   "outputs": [
    {
     "name": "stdout",
     "output_type": "stream",
     "text": [
      "            Adj Close\n",
      "Date                 \n",
      "2006-10-02   0.000000\n",
      "2006-10-03  -0.010419\n",
      "2006-10-04   0.017548\n",
      "2006-10-05  -0.007296\n",
      "2006-10-06  -0.008152\n",
      "...               ...\n",
      "2011-12-23   0.011994\n",
      "2011-12-27   0.007934\n",
      "2011-12-28  -0.009569\n",
      "2011-12-29   0.006159\n",
      "2011-12-30  -0.000296\n",
      "\n",
      "[1323 rows x 1 columns]\n"
     ]
    }
   ],
   "source": [
    "daily_close = aapl[['Adj Close']]\n",
    "daily_pct_change = daily_close.pct_change()\n",
    "daily_pct_change.fillna(0, inplace=True)\n",
    "print(daily_pct_change)"
   ]
  },
  {
   "cell_type": "code",
   "execution_count": 19,
   "metadata": {},
   "outputs": [
    {
     "name": "stdout",
     "output_type": "stream",
     "text": [
      "            Adj Close\n",
      "Date                 \n",
      "2006-10-02        NaN\n",
      "2006-10-03  -0.010474\n",
      "2006-10-04   0.017396\n",
      "2006-10-05  -0.007323\n",
      "2006-10-06  -0.008185\n",
      "...               ...\n",
      "2011-12-23   0.011922\n",
      "2011-12-27   0.007902\n",
      "2011-12-28  -0.009615\n",
      "2011-12-29   0.006140\n",
      "2011-12-30  -0.000296\n",
      "\n",
      "[1323 rows x 1 columns]\n"
     ]
    }
   ],
   "source": [
    "import numpy as np\n",
    "\n",
    "daily_log_returns = np.log(daily_close.pct_change()+1)\n",
    "print(daily_log_returns)"
   ]
  },
  {
   "cell_type": "code",
   "execution_count": 23,
   "metadata": {},
   "outputs": [
    {
     "name": "stdout",
     "output_type": "stream",
     "text": [
      "                High       Low      Open     Close    Volume  Adj Close\n",
      "Date                                                                   \n",
      "2006-10-31       NaN       NaN       NaN       NaN       NaN        NaN\n",
      "2007-02-28  0.126451  0.121460  0.125777  0.122860  0.369611   0.122860\n",
      "2007-06-30  0.195413  0.198331  0.196030  0.197735 -0.080296   0.197735\n",
      "2007-10-31  0.404613  0.392010  0.400961  0.400796  0.306882   0.400796\n",
      "2008-02-29  0.130711  0.117746  0.127066  0.120394  0.172293   0.120394\n",
      "2008-06-30 -0.004290  0.005927 -0.003550  0.003673 -0.209762   0.003673\n",
      "2008-10-31 -0.108879 -0.124618 -0.114267 -0.118803  0.133219  -0.118803\n",
      "2009-02-28 -0.363388 -0.359305 -0.363639 -0.360865 -0.161601  -0.360865\n",
      "2009-06-30  0.304359  0.324702  0.312134  0.316588 -0.386935   0.316588\n",
      "2009-10-31  0.411193  0.425117  0.421239  0.415901 -0.158270   0.415901\n",
      "2010-02-28  0.176085  0.172864  0.175612  0.173693  0.170633   0.173693\n",
      "2010-06-30  0.223317  0.219063  0.223045  0.223611  0.203680   0.223611\n",
      "2010-10-31  0.094268  0.099356  0.094380  0.096125 -0.157478   0.096125\n",
      "2011-02-28  0.218082  0.225622  0.221393  0.221858 -0.230726   0.221858\n",
      "2011-06-30  0.033863  0.031616  0.034143  0.031222 -0.043455   0.031222\n",
      "2011-10-31  0.133189  0.124572  0.127202  0.130452  0.429821   0.130452\n",
      "2012-02-29  0.008387  0.016799  0.013755  0.011002 -0.404723   0.011002\n"
     ]
    }
   ],
   "source": [
    "monthly = aapl.resample('BM').apply(lambda x: x[-1])\n",
    "monthly.pct_change()\n",
    "quarter = aapl.resample('4M').mean()\n",
    "quarter.pct_change()\n",
    "\n",
    "print(quarter.pct_change())"
   ]
  },
  {
   "cell_type": "code",
   "execution_count": 24,
   "metadata": {},
   "outputs": [
    {
     "name": "stdout",
     "output_type": "stream",
     "text": [
      "            Adj Close\n",
      "Date                 \n",
      "2006-10-02        NaN\n",
      "2006-10-03  -0.010419\n",
      "2006-10-04   0.017548\n",
      "2006-10-05  -0.007296\n",
      "2006-10-06  -0.008152\n",
      "...               ...\n",
      "2011-12-23   0.011994\n",
      "2011-12-27   0.007934\n",
      "2011-12-28  -0.009569\n",
      "2011-12-29   0.006159\n",
      "2011-12-30  -0.000296\n",
      "\n",
      "[1323 rows x 1 columns]\n"
     ]
    }
   ],
   "source": [
    "daily_pct_change = daily_close/daily_close.shift(1)-1\n",
    "print(daily_pct_change)"
   ]
  },
  {
   "cell_type": "code",
   "execution_count": 25,
   "metadata": {},
   "outputs": [
    {
     "data": {
      "image/png": "[encoded data removed]",
      "text/plain": [
       "<Figure size 432x288 with 1 Axes>"
      ]
     },
     "metadata": {
      "needs_background": "light"
     },
     "output_type": "display_data"
    },
    {
     "name": "stdout",
     "output_type": "stream",
     "text": [
      "         Adj Close\n",
      "count  1322.000000\n",
      "mean      0.001566\n",
      "std       0.023992\n",
      "min      -0.179195\n",
      "25%      -0.010672\n",
      "50%       0.001677\n",
      "75%       0.014306\n",
      "max       0.139049\n"
     ]
    }
   ],
   "source": [
    "daily_pct_change.hist(bins=50)\n",
    "plt.show()\n",
    "print(daily_pct_change.describe())"
   ]
  },
  {
   "cell_type": "code",
   "execution_count": null,
   "metadata": {},
   "outputs": [],
   "source": []
  }
 ],
 "metadata": {
  "kernelspec": {
   "display_name": "Python 3",
   "language": "python",
   "name": "python3"
  },
  "language_info": {
   "codemirror_mode": {
    "name": "ipython",
    "version": 3
   },
   "file_extension": ".py",
   "mimetype": "text/x-python",
   "name": "python",
   "nbconvert_exporter": "python",
   "pygments_lexer": "ipython3",
   "version": "3.7.7"
  }
 },
 "nbformat": 4,
 "nbformat_minor": 4
}
